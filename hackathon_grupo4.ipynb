{
 "cells": [
  {
   "cell_type": "code",
   "execution_count": 7,
   "metadata": {},
   "outputs": [],
   "source": [
    "import pandas as pd\n",
    "import seaborn as sns\n",
    "import matplotlib.pyplot as plt\n",
    "import datetime\n",
    "import numpy as np\n",
    "from sklearn.model_selection import train_test_split\n",
    "from sklearn.preprocessing import scale\n",
    "from sklearn.preprocessing import StandardScaler\n",
    "from sklearn.decomposition import PCA\n",
    "from sklearn.svm import SVC\n",
    "from sklearn.model_selection import GridSearchCV\n",
    "from sklearn.linear_model import LogisticRegression\n",
    "from sklearn.metrics import confusion_matrix\n",
    "from sklearn.metrics import plot_confusion_matrix\n",
    "from sklearn.metrics import f1_score\n",
    "from sklearn import metrics\n",
    "from sklearn.model_selection import cross_val_score"
   ]
  },
  {
   "cell_type": "code",
   "execution_count": 8,
   "metadata": {},
   "outputs": [],
   "source": [
    "# This path will be active after the launch of the hackathon\n",
    "teamname = 'trachack-a-groups-admin-py-tracfone'\n",
    "data_folder='s3://tf-trachack-data/212/'\n",
    "# change root_folder to your team's root folder\n",
    "# s3://tf-trachack-notebooks/<this should be replaced by team name as provided in EMAIL>/jupyter/jovyan/\n",
    "root_folder='s3://tf-trachack-notebooks/trachack-project-groups-4-unavarra/jupyter/jovyan/'"
   ]
  },
  {
   "cell_type": "code",
   "execution_count": 9,
   "metadata": {},
   "outputs": [],
   "source": [
    "def numerical_cleaner(df):\n",
    "    \n",
    "    df = df.select_dtypes(exclude=['datetime64','string','object'])\n",
    "\n",
    "    skip_word = [\"line_id\",\"redemption_date\",\"deactivation_date\"]\n",
    "\n",
    "    momentos_b1 = df.drop(columns=[col for col in df.columns if col in skip_word]).describe()\n",
    "\n",
    "    # Hago transpuesta para poder utilizarlo como dataframe\n",
    "\n",
    "    momentos_b1_T = momentos_b1.T\n",
    "\n",
    "    # max_val =  momentos_b1_T[\"max\"]\n",
    "    # min_val = momentos_b1_T[\"min\"]\n",
    "\n",
    "    number_of_rows = momentos_b1_T.shape[0]\n",
    "\n",
    "    index = momentos_b1_T.index\n",
    "\n",
    "    # Creo las listas para encasillar las variables en estudio.\n",
    "\n",
    "    variables_ruido = []\n",
    "    \n",
    "    # Para cada fila (variables columna que fueron puestas como filas) se analizara la columna max y min.\n",
    "    # Para luego encasillar en las listas correspondientes.\n",
    "\n",
    "    for i in range(0, number_of_rows):\n",
    "        if momentos_b1_T[\"max\"][i] == momentos_b1_T[\"min\"][i]:\n",
    "            variables_ruido.append(index[i])\n",
    "        else:\n",
    "            pass\n",
    "        \n",
    "    return sorted(set(variables_ruido))\n",
    "\n",
    "\n",
    "def categorical_cleaner(df):\n",
    "    \n",
    "    df = df.select_dtypes(exclude=['float64','int64'])\n",
    "\n",
    "    lista_columnas = []\n",
    "\n",
    "    columnasdf = df.columns\n",
    "\n",
    "    for i in range(len(columnasdf)):\n",
    "        lista_columnas.append(columnasdf[i])\n",
    "\n",
    "    index = df.index\n",
    "\n",
    "    number_of_rows = len(index)\n",
    "\n",
    "    # Calculo el porcentage de las 'entries' que son atribuidas a los diferentes valores en cada variable:\n",
    "\n",
    "    variables_ruido = []\n",
    "    \n",
    "    lista_columnas.remove(\"line_id\")\n",
    "\n",
    "    for c in lista_columnas:\n",
    "\n",
    "        if len(df[str(c)].value_counts()) == 0:\n",
    "\n",
    "            variables_ruido.append(str(c))\n",
    "\n",
    "        else:\n",
    "\n",
    "            valores = (df[str(c)].value_counts() / number_of_rows) * 100\n",
    "            # print(valores)\n",
    "\n",
    "            for z in range(len(valores)):\n",
    "\n",
    "                if valores[z] >= 95:\n",
    "\n",
    "                    variables_ruido.append(str(c))\n",
    "\n",
    "                else:\n",
    "                    pass\n",
    "\n",
    "    return variables_ruido\n",
    "\n",
    "\n",
    "def total_creator(df,col1,col2):\n",
    "    \n",
    "    name_sep = str(col1.split('_')[0])\n",
    "    \n",
    "    name = name_sep + \"_total\"\n",
    "    \n",
    "    df[name] = abs(df[col1] - df[col2])\n",
    "    \n",
    "    return print(\"column_created\")\n",
    "\n",
    "def Other_label(df, col, n):\n",
    "    # n is the number of biggest frequencies labels you want to keep\n",
    "    \n",
    "    biggest = df[col].value_counts().nlargest(n).index\n",
    "    \n",
    "    df[col] = np.where(df[col].isin(biggest), df[col], 'OTHER')\n",
    "    \n",
    "    return print(\"Done labeling with OTHER \"+ str(col) + \" column.\")\n",
    "\n",
    "def value_count_filter(df):\n",
    "    \n",
    "    col = df.columns.tolist()\n",
    "    \n",
    "    noise_list = []\n",
    "    \n",
    "    for i in col:\n",
    "        \n",
    "        if df[i].value_counts().nlargest(1)[0] > 6e6:\n",
    "            \n",
    "            noise_list.append(df[i].name)\n",
    "            \n",
    "        else:\n",
    "            \n",
    "            pass\n",
    "    \n",
    "    return noise_list"
   ]
  },
  {
   "cell_type": "markdown",
   "metadata": {},
   "source": [
    "## 1. Upgrades\n",
    "\n",
    "base dataset that has line_id, upgrade_date and upgrade columns.\n",
    "\n",
    "### Variables\n",
    "\n",
    "+ **line_id** = identificador único de número telefonico\n",
    "+ **upgrade_date** = fecha del upgrade, si es que hay upgrade\n",
    "+ **upgrade** = Target del estudio, realiza upgrade o no"
   ]
  },
  {
   "cell_type": "code",
   "execution_count": 10,
   "metadata": {},
   "outputs": [
    {
     "data": {
      "text/html": [
       "<div>\n",
       "<style scoped>\n",
       "    .dataframe tbody tr th:only-of-type {\n",
       "        vertical-align: middle;\n",
       "    }\n",
       "\n",
       "    .dataframe tbody tr th {\n",
       "        vertical-align: top;\n",
       "    }\n",
       "\n",
       "    .dataframe thead th {\n",
       "        text-align: right;\n",
       "    }\n",
       "</style>\n",
       "<table border=\"1\" class=\"dataframe\">\n",
       "  <thead>\n",
       "    <tr style=\"text-align: right;\">\n",
       "      <th></th>\n",
       "      <th>line_id</th>\n",
       "      <th>date_observed</th>\n",
       "      <th>upgrade</th>\n",
       "    </tr>\n",
       "  </thead>\n",
       "  <tbody>\n",
       "    <tr>\n",
       "      <th>0</th>\n",
       "      <td>f0b99d3b-32f7-4464-8fa8-87f27c9810a8</td>\n",
       "      <td>2021-03-14</td>\n",
       "      <td>yes</td>\n",
       "    </tr>\n",
       "    <tr>\n",
       "      <th>1</th>\n",
       "      <td>a2ec0baf-1720-4b1b-bfa3-db00ac8fcb00</td>\n",
       "      <td>2021-03-10</td>\n",
       "      <td>yes</td>\n",
       "    </tr>\n",
       "  </tbody>\n",
       "</table>\n",
       "</div>"
      ],
      "text/plain": [
       "                                line_id date_observed upgrade\n",
       "0  f0b99d3b-32f7-4464-8fa8-87f27c9810a8    2021-03-14     yes\n",
       "1  a2ec0baf-1720-4b1b-bfa3-db00ac8fcb00    2021-03-10     yes"
      ]
     },
     "execution_count": 10,
     "metadata": {},
     "output_type": "execute_result"
    }
   ],
   "source": [
    "upgrades=pd.read_csv(data_folder+\"data/dev/upgrades.csv\")\n",
    "upgrades.head(2)"
   ]
  },
  {
   "cell_type": "code",
   "execution_count": 11,
   "metadata": {},
   "outputs": [
    {
     "name": "stdout",
     "output_type": "stream",
     "text": [
      "<class 'pandas.core.frame.DataFrame'>\n",
      "RangeIndex: 55868 entries, 0 to 55867\n",
      "Data columns (total 3 columns):\n",
      " #   Column         Non-Null Count  Dtype         \n",
      "---  ------         --------------  -----         \n",
      " 0   line_id        55868 non-null  object        \n",
      " 1   date_observed  55868 non-null  datetime64[ns]\n",
      " 2   upgrade        55868 non-null  object        \n",
      "dtypes: datetime64[ns](1), object(2)\n",
      "memory usage: 1.3+ MB\n"
     ]
    }
   ],
   "source": [
    "upgrades[\"date_observed\"] = pd.to_datetime(upgrades[\"date_observed\"], format = '%Y-%m-%d')\n",
    "upgrades.info()"
   ]
  },
  {
   "cell_type": "markdown",
   "metadata": {},
   "source": [
    "## 2. Customer Info\n",
    "\n",
    "customer info has carrier, plan and activation information for each line_id. One line_id in upgrades data has one and only record in customer info, hence you can do inner join on both.\n",
    "\n",
    "+ **line_id** = identificador único de número telefonico\n",
    "+ **carrier** = ni idea, pero es categorica y se divide en carrier 1, 2 y 3\n",
    "+ **first_activation_date** = fecha de activación (de que? el número?)\n",
    "+ **plan_name** = categórica, hay 4 planes o caen en Otro\n",
    "+ **plan_subtype** = Smart o None, casi todos son None por lo que no aporta nada\n",
    "+ **redemption_date** = Fecha de colección del pago? algo asi"
   ]
  },
  {
   "cell_type": "code",
   "execution_count": 12,
   "metadata": {},
   "outputs": [],
   "source": [
    "customer_info = pd.read_csv(data_folder+\"data/dev/customer_info.csv\")\n",
    "customer_info[\"first_activation_date\"] = pd.to_datetime(customer_info[\"first_activation_date\"], format = '%Y-%m-%d')\n",
    "customer_info[\"redemption_date\"] = pd.to_datetime(customer_info[\"redemption_date\"], format = '%Y-%m-%d')\n",
    "customer_info.drop('plan_subtype', axis='columns', inplace=True)"
   ]
  },
  {
   "cell_type": "markdown",
   "metadata": {},
   "source": [
    "## 3. Phone Info\n",
    "\n",
    " phone info has all the device information for each line_id. One line_id in upgrades data has one and only record in phone info, hence inner join would be the right choice for both"
   ]
  },
  {
   "cell_type": "code",
   "execution_count": 13,
   "metadata": {},
   "outputs": [],
   "source": [
    "# Read csv\n",
    "phone_info=pd.read_csv(data_folder+\"data/dev/phone_info.csv\")"
   ]
  },
  {
   "cell_type": "code",
   "execution_count": 14,
   "metadata": {},
   "outputs": [
    {
     "name": "stdout",
     "output_type": "stream",
     "text": [
      "<class 'pandas.core.frame.DataFrame'>\n",
      "RangeIndex: 55868 entries, 0 to 55867\n",
      "Data columns (total 20 columns):\n",
      " #   Column                     Non-Null Count  Dtype  \n",
      "---  ------                     --------------  -----  \n",
      " 0   line_id                    55868 non-null  object \n",
      " 1   cpu_cores                  33740 non-null  object \n",
      " 2   expandable_storage         33241 non-null  float64\n",
      " 3   gsma_device_type           44297 non-null  object \n",
      " 4   gsma_model_name            44297 non-null  object \n",
      " 5   gsma_operating_system      44297 non-null  object \n",
      " 6   internal_storage_capacity  33399 non-null  object \n",
      " 7   lte                        33831 non-null  float64\n",
      " 8   lte_advanced               31224 non-null  float64\n",
      " 9   lte_category               30927 non-null  float64\n",
      " 10  manufacturer               33814 non-null  object \n",
      " 11  os_family                  33801 non-null  object \n",
      " 12  os_name                    33803 non-null  object \n",
      " 13  os_vendor                  33801 non-null  object \n",
      " 14  os_version                 33649 non-null  object \n",
      " 15  sim_size                   32473 non-null  object \n",
      " 16  total_ram                  33632 non-null  object \n",
      " 17  touch_screen               33853 non-null  float64\n",
      " 18  wi_fi                      33819 non-null  float64\n",
      " 19  year_released              33849 non-null  float64\n",
      "dtypes: float64(7), object(13)\n",
      "memory usage: 8.5+ MB\n"
     ]
    }
   ],
   "source": [
    "phone_info.info()"
   ]
  },
  {
   "cell_type": "code",
   "execution_count": 15,
   "metadata": {},
   "outputs": [
    {
     "data": {
      "text/plain": [
       "XT2005DL     2311\n",
       "LG L722DL     941\n",
       "SM-S111DL     889\n",
       "SM-S102DL     875\n",
       "XT2052-DL     833\n",
       "LG L455DL     771\n",
       "SM-S215DL     648\n",
       "LG L125DL     427\n",
       "SM-S205DL     401\n",
       "Z723EL        349\n",
       "Name: gsma_model_name, dtype: int64"
      ]
     },
     "execution_count": 15,
     "metadata": {},
     "output_type": "execute_result"
    }
   ],
   "source": [
    "# Exploratory analysis of model released year\n",
    "\n",
    "lista_modelos_sinFecha = phone_info.loc[phone_info[\"year_released\"].isna()][\"gsma_model_name\"].value_counts().index.tolist()\n",
    "\n",
    "phone_info.loc[phone_info[\"year_released\"].isna()][\"gsma_model_name\"].value_counts().nlargest(10)"
   ]
  },
  {
   "cell_type": "code",
   "execution_count": 16,
   "metadata": {},
   "outputs": [
    {
     "name": "stdout",
     "output_type": "stream",
     "text": [
      "XT2005DL\n",
      "XT2052-DL\n",
      "XT2041DL\n",
      "XT2041-4\n",
      "XT2045-3\n",
      "XT2043-4\n",
      "XT1952-4\n",
      "XT2013-4\n",
      "XT2052-1\n",
      "XT2019-2\n",
      "XT2005-5\n",
      "XT1962-6\n",
      "XT2015-2\n",
      "XT2041-1\n",
      "XT2005-1PP\n",
      "XT2027-1\n",
      "XT1980-4\n",
      "XT2010-1\n",
      "XT2055-2\n",
      "XT1955-6\n",
      "XT1952-6\n",
      "XT2005-1\n",
      "XT2005-3\n",
      "XT2041-6\n",
      "XT2025-1\n",
      "LG L722DL\n",
      "LG L455DL\n",
      "LG L125DL\n",
      "LG L555DL\n",
      "LG442BG\n",
      "SM-S111DL\n",
      "SM-S102DL\n",
      "SM-S215DL\n",
      "SM-S205DL\n",
      "SM-S115DL\n",
      "SM-S506DL\n",
      "SM-G981U1\n",
      "SM-A515F/DS\n",
      "SM-A505U1\n",
      "SM-A715F/DS\n",
      "SM-G986U1\n",
      "SM-G988U1\n",
      "SM-A207M/DS\n",
      "SM-A015A\n",
      "SM-G986U\n",
      "SM-A102U1\n",
      "SM-A205U1\n",
      "SM-A515U\n",
      "SM-G985F/DS\n",
      "SM-G981U\n",
      "SM-A115M/DS\n",
      "SM-A215U\n",
      "SM-G988U\n",
      "SM-A015M/DS\n",
      "SM-G715U1\n",
      "SM-A015T1\n",
      "SM-G988B/DS\n"
     ]
    }
   ],
   "source": [
    "moto_list = [x for x in lista_modelos_sinFecha if x.startswith('XT')]\n",
    "\n",
    "lg_list = [x for x in lista_modelos_sinFecha if x.startswith('LG')]\n",
    "\n",
    "sm_list = [x for x in lista_modelos_sinFecha if x.startswith('SM')]\n",
    "\n",
    "for i in (moto_list + lg_list + sm_list):\n",
    "    \n",
    "    print(i)"
   ]
  },
  {
   "cell_type": "code",
   "execution_count": 17,
   "metadata": {},
   "outputs": [
    {
     "name": "stdout",
     "output_type": "stream",
     "text": [
      "<class 'pandas.core.frame.DataFrame'>\n",
      "RangeIndex: 55868 entries, 0 to 55867\n",
      "Data columns (total 6 columns):\n",
      " #   Column                 Non-Null Count  Dtype \n",
      "---  ------                 --------------  ----- \n",
      " 0   line_id                55868 non-null  object\n",
      " 1   gsma_operating_system  55868 non-null  object\n",
      " 2   total_ram              33632 non-null  object\n",
      " 3   touch_screen           55868 non-null  int64 \n",
      " 4   wi_fi                  55868 non-null  int64 \n",
      " 5   year_released          55868 non-null  int64 \n",
      "dtypes: int64(3), object(3)\n",
      "memory usage: 2.6+ MB\n"
     ]
    }
   ],
   "source": [
    "# For later imputation\n",
    "\n",
    "def Updated_year_released(df, list_2019, list_2020, others):\n",
    "    \n",
    "    df[\"gsma_operating_system\"] = np.where(df[\"gsma_operating_system\"].isin([\"Android\",\"iOS\"]),\n",
    "                                                   df[\"gsma_operating_system\"], 'Android')\n",
    "    \n",
    "    for i in range(len(df)):\n",
    "        \n",
    "        if pd.isna(df[\"gsma_operating_system\"][i]):\n",
    "            \n",
    "            df.loc[i,\"gsma_operating_system\"] = \"Android\"\n",
    "            \n",
    "        else:\n",
    "            \n",
    "            pass\n",
    "        \n",
    "        if df[\"gsma_model_name\"][i] in list_2019:\n",
    "            \n",
    "            df.loc[i,\"year_released\"] = 2019\n",
    "            \n",
    "        elif df[\"gsma_model_name\"][i] in list_2020:\n",
    "            \n",
    "            df.loc[i,\"year_released\"] = 2020\n",
    "            \n",
    "        elif df[\"gsma_model_name\"][i] in others:\n",
    "            \n",
    "            df.loc[i, \"year_released\"] = 2017\n",
    "            \n",
    "        else:\n",
    "            \n",
    "            pass\n",
    "        \n",
    "    return df\n",
    "\n",
    "motorola_2019 = list(set([\"XT2005-1\",\"XT2005-3\",\"XT2005DL\",\"XT2029\",\"XT2029-1\",\"XT2025-2\",\"XT1952-4\",\n",
    "                 \"XT1952-6\",\"XT2013\",\"XT1955-6\",\"XT1962-6\",\"XT1980-4\",\"XT2005-1PP\",\n",
    "                \"XT2010-1\",\"XT2013-4\",\"XT2015-2\",\"XT2019-2\",\"XT2025-1\"]))\n",
    "\n",
    "motorola_2020 = list(set([\"XT2053-2\",\"XT2052-1\", \"XT2052-2\", \"XT2052-2PP\", \"XT2052-5\", \"XT2052-6\", \"XT2052-DL\",\n",
    "                \"XT2041-4\", \"XT2041-6\", \"XT2041-7\", \"XT2041-DL\",\"XT2045-3\",\"XT2043\",\"XT2043-4\",\"XT2043-7\",\n",
    "                \"XT2055-2\",\"XT2027-1\",\"XT2041-1\",\"XT2041-4\",\"XT2041-6\",\"XT2041DL\",\"XT2043-4\",\"XT2045-3\"]))\n",
    "\n",
    "listed_2017 = [\"LG442BG\",\"SM-S115DL\",\"Z723EL\"]\n",
    "\n",
    "lg_2019 = [\"LG L722DL\"]\n",
    "\n",
    "lg_2020 = [\"LG L455DL\",\"LG L125DL\",\"LG L555DL\"]\n",
    "\n",
    "sm_2019 = [\"SM-A015M/DS\",\"SM-A015T1\",\"SM-S111DL\",\"SM-A015A\",\"SM-S506DL\",\"SM-A102U1\",\"SM-A205U1\",\"SM-A207M/DS\",\n",
    "          \"SM-A505U1\",\"SM-A515F/DS\",\"SM-A515U\",\"SM-S102DL\",\"SM-S205DL\"]\n",
    "\n",
    "sm_2020 = [\"SM-G981U\",\"SM-G981U1\",\"SM-G985F/DS\",\"SM-G986U\",\"SM-G986U1\",\"SM-G988B/DS\",\"SM-G988U\",\"SM-G988U1\",\n",
    "          \"SM-G715U1\",\"SM-A715F/DS\",\"SM-A115M/DS\",\"SM-A215U\",\"SM-A715F/DS\",\"SM-G715U1\",\"SM-S215DL\"]\n",
    "\n",
    "model_2019 = motorola_2019 + lg_2019 + sm_2019\n",
    "\n",
    "model_2020 = motorola_2020 + lg_2020 + sm_2020\n",
    "\n",
    "# Matching models with their released year, which were searched in web pages.\n",
    "\n",
    "phone_info = Updated_year_released(phone_info, model_2019, model_2020, listed_2017)\n",
    "\n",
    "# Finald phone_info df\n",
    "\n",
    "phone_info = phone_info[['line_id','gsma_operating_system','total_ram','touch_screen','wi_fi','year_released']]\n",
    "\n",
    "replace_zero = [\"touch_screen\",\"wi_fi\"]\n",
    "\n",
    "for i in replace_zero:\n",
    "    \n",
    "    phone_info[i] = phone_info[i].fillna(0)\n",
    "    \n",
    "phone_info[\"year_released\"] = phone_info[\"year_released\"].astype(pd.Int64Dtype(), errors = \"ignore\").fillna(2018).astype(int)\n",
    "\n",
    "phone_info[[\"wi_fi\",\"touch_screen\"]] = phone_info[[\"wi_fi\",\"touch_screen\"]].astype(pd.Int64Dtype(), errors = \"ignore\").astype(int)\n",
    "\n",
    "phone_info.info()\n"
   ]
  },
  {
   "cell_type": "code",
   "execution_count": 18,
   "metadata": {},
   "outputs": [],
   "source": [
    "# Merging \n",
    "\n",
    "df_1to3 = upgrades.merge(customer_info, on = 'line_id', how = 'inner')\n",
    "df_1to3 = df_1to3.merge(phone_info, on = 'line_id', how = 'inner')"
   ]
  },
  {
   "cell_type": "code",
   "execution_count": 19,
   "metadata": {},
   "outputs": [],
   "source": [
    "# Updating \"upgrade\" values.\n",
    "\n",
    "df_1to3['upgrade'].replace({'yes':1,'no':0}, inplace=True)"
   ]
  },
  {
   "cell_type": "code",
   "execution_count": 20,
   "metadata": {},
   "outputs": [
    {
     "name": "stdout",
     "output_type": "stream",
     "text": [
      "<class 'pandas.core.frame.DataFrame'>\n",
      "Int64Index: 55868 entries, 0 to 55867\n",
      "Data columns (total 12 columns):\n",
      " #   Column                 Non-Null Count  Dtype         \n",
      "---  ------                 --------------  -----         \n",
      " 0   line_id                55868 non-null  object        \n",
      " 1   date_observed          55868 non-null  datetime64[ns]\n",
      " 2   upgrade                55868 non-null  int64         \n",
      " 3   carrier                55868 non-null  object        \n",
      " 4   first_activation_date  55147 non-null  datetime64[ns]\n",
      " 5   plan_name              42012 non-null  object        \n",
      " 6   redemption_date        42012 non-null  datetime64[ns]\n",
      " 7   gsma_operating_system  55868 non-null  object        \n",
      " 8   total_ram              33632 non-null  object        \n",
      " 9   touch_screen           55868 non-null  int64         \n",
      " 10  wi_fi                  55868 non-null  int64         \n",
      " 11  year_released          55868 non-null  int64         \n",
      "dtypes: datetime64[ns](3), int64(4), object(5)\n",
      "memory usage: 5.5+ MB\n"
     ]
    }
   ],
   "source": [
    "df_1to3.info()"
   ]
  },
  {
   "cell_type": "code",
   "execution_count": 21,
   "metadata": {},
   "outputs": [
    {
     "data": {
      "text/plain": [
       "total_ram        gsma_operating_system\n",
       "1024             Android                  0.149171\n",
       "                 iOS                      0.134769\n",
       "1024/2048        Android                  0.000000\n",
       "12288            Android                  0.558824\n",
       "128              Android                  0.000000\n",
       "1536             Android                  0.212632\n",
       "1843             Android                  1.000000\n",
       "2048             Android                  0.202938\n",
       "                 iOS                      0.076022\n",
       "2048/3072        Android                  0.333333\n",
       "2048/4096        Android                  1.000000\n",
       "256              Android                  0.368421\n",
       "2560             Android                  0.300000\n",
       "3072             Android                  0.308550\n",
       "                 iOS                      0.212055\n",
       "3072/4096        Android                  0.750000\n",
       "3072/4096/6144   Android                  0.000000\n",
       "32               Android                  0.500000\n",
       "4                Android                  0.000000\n",
       "4096             Android                  0.471963\n",
       "                 iOS                      0.394578\n",
       "4096/6144        Android                  0.586207\n",
       "4096/6144/8192   Android                  0.000000\n",
       "512              Android                  0.077364\n",
       "5415             Android                  0.500000\n",
       "5632             Android                  0.472527\n",
       "6144             Android                  0.584270\n",
       "                 iOS                      0.447005\n",
       "6144/8192        Android                  0.608696\n",
       "6144/8192/12288  Android                  1.000000\n",
       "768              Android                  0.000000\n",
       "7680             Android                  0.800000\n",
       "8                Android                  0.653846\n",
       "8192             Android                  0.661017\n",
       "8192/12288       Android                  1.000000\n",
       "Name: upgrade, dtype: float64"
      ]
     },
     "execution_count": 21,
     "metadata": {},
     "output_type": "execute_result"
    }
   ],
   "source": [
    "df_prueba = df_1to3.loc[~df_1to3[\"plan_name\"].isna()]\n",
    "\n",
    "df_prueba.groupby([\"total_ram\",\"gsma_operating_system\"])[\"upgrade\"].mean()"
   ]
  },
  {
   "cell_type": "code",
   "execution_count": 22,
   "metadata": {},
   "outputs": [
    {
     "name": "stdout",
     "output_type": "stream",
     "text": [
      "Done labeling with OTHER total_ram column.\n",
      "Done labeling with OTHER plan_name column.\n"
     ]
    }
   ],
   "source": [
    "# Labeling categories\n",
    "\n",
    "Other_label(df_1to3, \"total_ram\", 7)\n",
    "Other_label(df_1to3, \"plan_name\", 3)"
   ]
  },
  {
   "cell_type": "code",
   "execution_count": 23,
   "metadata": {},
   "outputs": [],
   "source": [
    "# Days from activation_date to observed_date (to give us an idea of how old the client is) \n",
    "# And redemption_date to observed_date (to give us an idea of how old the client current plan is)\n",
    "\n",
    "df_1to3[\"activation_to_observed\"] = (df_1to3[\"date_observed\"] - df_1to3[\"first_activation_date\"]).dt.days.astype(float, errors = 'ignore')\n",
    "df_1to3[\"redemption_to_observed\"] = (df_1to3[\"date_observed\"] - df_1to3[\"redemption_date\"]).dt.days.astype(float, errors = 'ignore')\n"
   ]
  },
  {
   "cell_type": "code",
   "execution_count": 24,
   "metadata": {},
   "outputs": [],
   "source": [
    "# And (date_observed - year_released) to give us an idea of which clients tend to improve their model more often.\n",
    "\n",
    "df_1to3[\"released_to_observed\"] = (df_1to3[\"date_observed\"].dt.year - df_1to3[\"year_released\"]).astype(int, errors = 'ignore')\n"
   ]
  },
  {
   "cell_type": "code",
   "execution_count": 25,
   "metadata": {},
   "outputs": [
    {
     "data": {
      "text/plain": [
       "upgrade\n",
       "0    [[AxesSubplot(0.125,0.125;0.775x0.755)]]\n",
       "1    [[AxesSubplot(0.125,0.125;0.775x0.755)]]\n",
       "dtype: object"
      ]
     },
     "execution_count": 25,
     "metadata": {},
     "output_type": "execute_result"
    },
    {
     "data": {
      "image/png": "[encoded data removed]",
      "text/plain": [
       "<Figure size 432x288 with 1 Axes>"
      ]
     },
     "metadata": {
      "needs_background": "light"
     },
     "output_type": "display_data"
    },
    {
     "data": {
      "image/png": "[encoded data removed]",
      "text/plain": [
       "<Figure size 432x288 with 1 Axes>"
      ]
     },
     "metadata": {
      "needs_background": "light"
     },
     "output_type": "display_data"
    }
   ],
   "source": [
    "# Released to observed hist\n",
    "\n",
    "df_1to3[[\"released_to_observed\",\"upgrade\"]].groupby(\"upgrade\").hist()"
   ]
  },
  {
   "cell_type": "code",
   "execution_count": 26,
   "metadata": {},
   "outputs": [
    {
     "data": {
      "text/plain": [
       "<AxesSubplot:xlabel='upgrade', ylabel='released_to_observed'>"
      ]
     },
     "execution_count": 26,
     "metadata": {},
     "output_type": "execute_result"
    },
    {
     "data": {
      "image/png": "[encoded data removed]",
      "text/plain": [
       "<Figure size 432x288 with 1 Axes>"
      ]
     },
     "metadata": {
      "needs_background": "light"
     },
     "output_type": "display_data"
    }
   ],
   "source": [
    "# Released to observed boxplot\n",
    "\n",
    "sns.boxplot(x=\"upgrade\", y=\"released_to_observed\", data=df_1to3)"
   ]
  },
  {
   "cell_type": "code",
   "execution_count": 27,
   "metadata": {},
   "outputs": [
    {
     "data": {
      "text/plain": [
       "<AxesSubplot:xlabel='upgrade', ylabel='redemption_to_observed'>"
      ]
     },
     "execution_count": 27,
     "metadata": {},
     "output_type": "execute_result"
    },
    {
     "data": {
      "image/png": "[encoded data removed]",
      "text/plain": [
       "<Figure size 432x288 with 1 Axes>"
      ]
     },
     "metadata": {
      "needs_background": "light"
     },
     "output_type": "display_data"
    }
   ],
   "source": [
    "# Take it off as it doesn't represent clear differences\n",
    "\n",
    "sns.boxplot(x=\"upgrade\", y=\"redemption_to_observed\", data=df_1to3)"
   ]
  },
  {
   "cell_type": "code",
   "execution_count": 28,
   "metadata": {},
   "outputs": [
    {
     "data": {
      "text/plain": [
       "<AxesSubplot:xlabel='upgrade', ylabel='activation_to_observed'>"
      ]
     },
     "execution_count": 28,
     "metadata": {},
     "output_type": "execute_result"
    },
    {
     "data": {
      "image/png": "[encoded data removed]",
      "text/plain": [
       "<Figure size 432x288 with 1 Axes>"
      ]
     },
     "metadata": {
      "needs_background": "light"
     },
     "output_type": "display_data"
    }
   ],
   "source": [
    "# Activation to observed boxplot\n",
    "\n",
    "sns.boxplot(x=\"upgrade\", y=\"activation_to_observed\", data=df_1to3)"
   ]
  },
  {
   "cell_type": "code",
   "execution_count": 29,
   "metadata": {},
   "outputs": [
    {
     "data": {
      "text/plain": [
       "<AxesSubplot:xlabel='activation_to_observed', ylabel='Count'>"
      ]
     },
     "execution_count": 29,
     "metadata": {},
     "output_type": "execute_result"
    },
    {
     "data": {
      "image/png": "[encoded data removed]",
      "text/plain": [
       "<Figure size 432x288 with 1 Axes>"
      ]
     },
     "metadata": {
      "needs_background": "light"
     },
     "output_type": "display_data"
    }
   ],
   "source": [
    "sns.histplot(x=\"activation_to_observed\", data=df_1to3)"
   ]
  },
  {
   "cell_type": "code",
   "execution_count": 30,
   "metadata": {},
   "outputs": [
    {
     "data": {
      "text/plain": [
       "<AxesSubplot:xlabel='redemption_to_observed', ylabel='Count'>"
      ]
     },
     "execution_count": 30,
     "metadata": {},
     "output_type": "execute_result"
    },
    {
     "data": {
      "image/png": "[encoded data removed]",
      "text/plain": [
       "<Figure size 432x288 with 1 Axes>"
      ]
     },
     "metadata": {
      "needs_background": "light"
     },
     "output_type": "display_data"
    }
   ],
   "source": [
    "sns.histplot(x=\"redemption_to_observed\", data=df_1to3)"
   ]
  },
  {
   "cell_type": "code",
   "execution_count": 31,
   "metadata": {},
   "outputs": [
    {
     "data": {
      "text/plain": [
       "upgrade\n",
       "0    [[AxesSubplot(0.125,0.125;0.775x0.755)]]\n",
       "1    [[AxesSubplot(0.125,0.125;0.775x0.755)]]\n",
       "dtype: object"
      ]
     },
     "execution_count": 31,
     "metadata": {},
     "output_type": "execute_result"
    },
    {
     "data": {
      "image/png": "[encoded data removed]",
      "text/plain": [
       "<Figure size 432x288 with 1 Axes>"
      ]
     },
     "metadata": {
      "needs_background": "light"
     },
     "output_type": "display_data"
    },
    {
     "data": {
      "image/png": "[encoded data removed]",
      "text/plain": [
       "<Figure size 432x288 with 1 Axes>"
      ]
     },
     "metadata": {
      "needs_background": "light"
     },
     "output_type": "display_data"
    }
   ],
   "source": [
    "df_1to3[\"redemption_to_observed\"] = df_1to3[\"redemption_to_observed\"].fillna(df_1to3[\"redemption_to_observed\"].median())\n",
    "\n",
    "df_1to3[[\"redemption_to_observed\",\"upgrade\"]].groupby(\"upgrade\").hist()"
   ]
  },
  {
   "cell_type": "code",
   "execution_count": 32,
   "metadata": {},
   "outputs": [
    {
     "name": "stdout",
     "output_type": "stream",
     "text": [
      "<class 'pandas.core.frame.DataFrame'>\n",
      "Int64Index: 55868 entries, 0 to 55867\n",
      "Data columns (total 13 columns):\n",
      " #   Column                  Non-Null Count  Dtype         \n",
      "---  ------                  --------------  -----         \n",
      " 0   line_id                 55868 non-null  object        \n",
      " 1   date_observed           55868 non-null  datetime64[ns]\n",
      " 2   upgrade                 55868 non-null  int64         \n",
      " 3   carrier                 55868 non-null  object        \n",
      " 4   plan_name               55868 non-null  object        \n",
      " 5   gsma_operating_system   55868 non-null  object        \n",
      " 6   total_ram               55868 non-null  object        \n",
      " 7   touch_screen            55868 non-null  int64         \n",
      " 8   wi_fi                   55868 non-null  int64         \n",
      " 9   year_released           55868 non-null  int64         \n",
      " 10  activation_to_observed  55147 non-null  float64       \n",
      " 11  redemption_to_observed  55868 non-null  float64       \n",
      " 12  released_to_observed    55868 non-null  int64         \n",
      "dtypes: datetime64[ns](1), float64(2), int64(5), object(5)\n",
      "memory usage: 8.5+ MB\n"
     ]
    }
   ],
   "source": [
    "df_1to3.drop([\"first_activation_date\",\"redemption_date\"], axis=1, inplace = True)\n",
    "df_1to3.info()"
   ]
  },
  {
   "cell_type": "code",
   "execution_count": 33,
   "metadata": {},
   "outputs": [],
   "source": [
    "df_1to3[\"activation_to_observed\"] = df_1to3[\"activation_to_observed\"].fillna(df_1to3[\"activation_to_observed\"].median()) "
   ]
  },
  {
   "cell_type": "code",
   "execution_count": 34,
   "metadata": {},
   "outputs": [
    {
     "name": "stdout",
     "output_type": "stream",
     "text": [
      "<class 'pandas.core.frame.DataFrame'>\n",
      "Int64Index: 55868 entries, 0 to 55867\n",
      "Data columns (total 13 columns):\n",
      " #   Column                  Non-Null Count  Dtype         \n",
      "---  ------                  --------------  -----         \n",
      " 0   line_id                 55868 non-null  object        \n",
      " 1   date_observed           55868 non-null  datetime64[ns]\n",
      " 2   upgrade                 55868 non-null  int64         \n",
      " 3   carrier                 55868 non-null  object        \n",
      " 4   plan_name               55868 non-null  object        \n",
      " 5   gsma_operating_system   55868 non-null  object        \n",
      " 6   total_ram               55868 non-null  object        \n",
      " 7   touch_screen            55868 non-null  int64         \n",
      " 8   wi_fi                   55868 non-null  int64         \n",
      " 9   year_released           55868 non-null  int64         \n",
      " 10  activation_to_observed  55868 non-null  float64       \n",
      " 11  redemption_to_observed  55868 non-null  float64       \n",
      " 12  released_to_observed    55868 non-null  int64         \n",
      "dtypes: datetime64[ns](1), float64(2), int64(5), object(5)\n",
      "memory usage: 8.5+ MB\n"
     ]
    }
   ],
   "source": [
    "df_1to3.info()"
   ]
  },
  {
   "cell_type": "code",
   "execution_count": 35,
   "metadata": {},
   "outputs": [],
   "source": [
    "prueba = df_1to3.copy()"
   ]
  },
  {
   "cell_type": "code",
   "execution_count": 36,
   "metadata": {},
   "outputs": [],
   "source": [
    "prueba[\"plan_gsma\"] = \" \"\n",
    "\n",
    "for i in range(0,len(prueba.index.tolist())):\n",
    "    \n",
    "    prueba.loc[i,\"plan_gsma\"] = str(prueba[\"plan_name\"][i])+\"-\"+str(prueba[\"gsma_operating_system\"][i])"
   ]
  },
  {
   "cell_type": "code",
   "execution_count": 37,
   "metadata": {},
   "outputs": [
    {
     "data": {
      "text/plain": [
       "OTHER-Android     10863\n",
       "plan 1-Android    10170\n",
       "plan 2-Android     8138\n",
       "plan 1-iOS         6597\n",
       "plan 3-Android     5568\n",
       "OTHER-iOS          5350\n",
       "plan 2-iOS         5248\n",
       "plan 3-iOS         3934\n",
       "Name: plan_gsma, dtype: int64"
      ]
     },
     "execution_count": 37,
     "metadata": {},
     "output_type": "execute_result"
    }
   ],
   "source": [
    "prueba[\"plan_gsma\"].value_counts()"
   ]
  },
  {
   "cell_type": "code",
   "execution_count": 38,
   "metadata": {},
   "outputs": [
    {
     "data": {
      "text/plain": [
       "OTHER    23168\n",
       "2048     18966\n",
       "3072      6236\n",
       "4096      3401\n",
       "1024      2140\n",
       "6144       870\n",
       "1536       637\n",
       "512        450\n",
       "Name: total_ram, dtype: int64"
      ]
     },
     "execution_count": 38,
     "metadata": {},
     "output_type": "execute_result"
    }
   ],
   "source": [
    "prueba[\"total_ram\"].value_counts()"
   ]
  },
  {
   "cell_type": "code",
   "execution_count": 39,
   "metadata": {},
   "outputs": [
    {
     "name": "stdout",
     "output_type": "stream",
     "text": [
      "{'OTHER-Android': 0.5365921016293842, 'OTHER-iOS': 0.5534579439252336, 'plan 1-Android': 0.09832841691248771, 'plan 1-iOS': 0.059572532969531605, 'plan 2-Android': 0.24096829687884, 'plan 2-iOS': 0.16577743902439024, 'plan 3-Android': 0.25287356321839083, 'plan 3-iOS': 0.19115404168784952}\n"
     ]
    }
   ],
   "source": [
    "plan_gsma_means = prueba.groupby([\"plan_gsma\"])[\"upgrade\"].mean()\n",
    "\n",
    "prueba['plan_gsma'] = prueba['plan_gsma'].map(plan_gsma_means)\n",
    "\n",
    "print(dict(plan_gsma_means))"
   ]
  },
  {
   "cell_type": "code",
   "execution_count": 40,
   "metadata": {},
   "outputs": [
    {
     "name": "stdout",
     "output_type": "stream",
     "text": [
      "{'1024': 0.23551401869158878, '1536': 0.32339089481946626, '2048': 0.19302963197300432, '3072': 0.377325208466966, '4096': 0.6045280799764775, '512': 0.12444444444444444, '6144': 0.6758620689655173, 'OTHER': 0.2481871546961326}\n"
     ]
    }
   ],
   "source": [
    "ram_means = prueba.groupby([\"total_ram\"])[\"upgrade\"].mean()\n",
    "\n",
    "prueba['total_ram'] = prueba['total_ram'].map(ram_means)\n",
    "\n",
    "print(dict(ram_means))"
   ]
  },
  {
   "cell_type": "code",
   "execution_count": 41,
   "metadata": {},
   "outputs": [
    {
     "name": "stdout",
     "output_type": "stream",
     "text": [
      "{'carrier 1': 0.2958441406478538, 'carrier 2': 0.0014245014245014246, 'carrier 3': 0.00040241448692152917}\n"
     ]
    }
   ],
   "source": [
    "carr_means = prueba.groupby([\"carrier\"])[\"upgrade\"].mean()\n",
    "\n",
    "prueba['carrier'] = prueba['carrier'].map(carr_means)\n",
    "\n",
    "print(dict(carr_means))"
   ]
  },
  {
   "cell_type": "code",
   "execution_count": 42,
   "metadata": {},
   "outputs": [
    {
     "name": "stdout",
     "output_type": "stream",
     "text": [
      "<class 'pandas.core.frame.DataFrame'>\n",
      "Int64Index: 55868 entries, 0 to 55867\n",
      "Data columns (total 12 columns):\n",
      " #   Column                  Non-Null Count  Dtype         \n",
      "---  ------                  --------------  -----         \n",
      " 0   line_id                 55868 non-null  object        \n",
      " 1   date_observed           55868 non-null  datetime64[ns]\n",
      " 2   upgrade                 55868 non-null  int64         \n",
      " 3   carrier                 55868 non-null  float64       \n",
      " 4   total_ram               55868 non-null  float64       \n",
      " 5   touch_screen            55868 non-null  int64         \n",
      " 6   wi_fi                   55868 non-null  int64         \n",
      " 7   year_released           55868 non-null  int64         \n",
      " 8   activation_to_observed  55868 non-null  float64       \n",
      " 9   redemption_to_observed  55868 non-null  float64       \n",
      " 10  released_to_observed    55868 non-null  int64         \n",
      " 11  plan_gsma               55868 non-null  float64       \n",
      "dtypes: datetime64[ns](1), float64(5), int64(5), object(1)\n",
      "memory usage: 8.0+ MB\n"
     ]
    }
   ],
   "source": [
    "prueba.drop([\"plan_name\",\"gsma_operating_system\"], axis = 1, inplace = True)\n",
    "\n",
    "df_1to3 = prueba\n",
    "\n",
    "df_1to3.info()"
   ]
  },
  {
   "cell_type": "code",
   "execution_count": 43,
   "metadata": {},
   "outputs": [
    {
     "name": "stdout",
     "output_type": "stream",
     "text": [
      "PointbiserialrResult(correlation=0.18213042483247405, pvalue=0.0) carrier\n",
      "PointbiserialrResult(correlation=0.2575033369419355, pvalue=0.0) total_ram\n",
      "PointbiserialrResult(correlation=0.08594808845407895, pvalue=4.433779178957634e-92) touch_screen\n",
      "PointbiserialrResult(correlation=0.0799325320055935, pvalue=7.367580791229313e-80) wi_fi\n",
      "PointbiserialrResult(correlation=0.07522277819599466, pvalue=6.486691539270513e-71) year_released\n",
      "PointbiserialrResult(correlation=0.30060727016257593, pvalue=0.0) activation_to_observed\n",
      "PointbiserialrResult(correlation=-0.23961246091155713, pvalue=0.0) redemption_to_observed\n",
      "PointbiserialrResult(correlation=-0.07522277819599442, pvalue=6.486691539270513e-71) released_to_observed\n",
      "PointbiserialrResult(correlation=0.4128152501102317, pvalue=0.0) plan_gsma\n"
     ]
    }
   ],
   "source": [
    "from scipy import stats\n",
    "\n",
    "lista_col = df_1to3.columns.tolist()\n",
    "\n",
    "lista_col.remove('line_id')\n",
    "lista_col.remove('date_observed')\n",
    "lista_col.remove('upgrade')\n",
    "\n",
    "for i in lista_col:\n",
    "\n",
    "    a = df_1to3[\"upgrade\"].to_numpy()\n",
    "\n",
    "    b = df_1to3[i].to_numpy()\n",
    "        \n",
    "    print(stats.pointbiserialr(a, b), i)\n"
   ]
  },
  {
   "cell_type": "markdown",
   "metadata": {},
   "source": [
    "# 4. Redemptions"
   ]
  },
  {
   "cell_type": "code",
   "execution_count": 44,
   "metadata": {},
   "outputs": [],
   "source": [
    "# Reading of csv\n",
    "\n",
    "redemptions=pd.read_csv(data_folder+\"data/dev/redemptions.csv\")"
   ]
  },
  {
   "cell_type": "code",
   "execution_count": 45,
   "metadata": {},
   "outputs": [],
   "source": [
    "redemptions.drop(categorical_cleaner(redemptions), axis = 1, inplace = True)"
   ]
  },
  {
   "cell_type": "code",
   "execution_count": 46,
   "metadata": {},
   "outputs": [],
   "source": [
    "#Agrupado por line_id para tener una fila por cliente\n",
    "a = redemptions.groupby(['line_id']).nunique(\"line_id\")\n",
    "a = a[\"redemption_date\"]\n",
    "\n",
    "#Promedio de revenue generado por cliente\n",
    "b = redemptions.groupby([\"line_id\"]).mean()\n",
    "\n",
    "#Merge de ambos\n",
    "redemptions = pd.merge(a, b, on = \"line_id\", how = \"inner\").reset_index()\n",
    "\n",
    "#Df limpio\n",
    "redemptions.columns = [\"line_id\", \"redemption_count\", \"mean_revenue\"]"
   ]
  },
  {
   "cell_type": "markdown",
   "metadata": {},
   "source": [
    "# 5. Deactivations"
   ]
  },
  {
   "cell_type": "code",
   "execution_count": 47,
   "metadata": {},
   "outputs": [],
   "source": [
    "# Reading of csv\n",
    "deactivations=pd.read_csv(data_folder+\"data/dev/deactivations.csv\")\n",
    "\n",
    "# Droping categorical noise\n",
    "\n",
    "deactivations.drop(categorical_cleaner(deactivations), axis = 1, inplace = True)"
   ]
  },
  {
   "cell_type": "code",
   "execution_count": 48,
   "metadata": {},
   "outputs": [
    {
     "name": "stdout",
     "output_type": "stream",
     "text": [
      "<class 'pandas.core.frame.DataFrame'>\n",
      "RangeIndex: 44757 entries, 0 to 44756\n",
      "Data columns (total 2 columns):\n",
      " #   Column               Non-Null Count  Dtype \n",
      "---  ------               --------------  ----- \n",
      " 0   line_id              44757 non-null  object\n",
      " 1   deactivations_count  44757 non-null  int64 \n",
      "dtypes: int64(1), object(1)\n",
      "memory usage: 699.5+ KB\n"
     ]
    }
   ],
   "source": [
    "# Featuring deactivations \n",
    "\n",
    "deactivations = deactivations.groupby(\"line_id\").count().reset_index()\n",
    "deactivations = deactivations[[\"line_id\", \"deactivation_date\"]]\n",
    "deactivations.columns = [\"line_id\", \"deactivations_count\"]\n",
    "deactivations.info()"
   ]
  },
  {
   "cell_type": "markdown",
   "metadata": {},
   "source": [
    "# 6. Suspensions"
   ]
  },
  {
   "cell_type": "code",
   "execution_count": 49,
   "metadata": {},
   "outputs": [],
   "source": [
    "# Cleaning and featuring\n",
    "\n",
    "suspensions=pd.read_csv(data_folder+\"data/dev/suspensions.csv\")\n",
    "\n",
    "suspensions = suspensions.astype({\"suspension_start_date\": 'datetime64[ns]', \"suspension_end_date\": 'datetime64[ns]'})\n",
    "\n",
    "suspensions[\"days_suspended\"] = (suspensions[\"suspension_end_date\"] - \n",
    "                                 suspensions[\"suspension_start_date\"]).dt.days.astype(float, errors = 'ignore').fillna(0)\n",
    "\n",
    "suspensions[\"days_suspended\"] = suspensions[\"days_suspended\"].astype(int)\n",
    "\n",
    "suspensions.drop([\"suspension_start_date\",\"suspension_end_date\"], axis = \"columns\", inplace = True)\n",
    "\n",
    "#Agrupado por line_id para tener una fila por cliente\n",
    "z = suspensions.groupby(['line_id']).nunique(\"line_id\")\n",
    "z = z[\"days_suspended\"]\n",
    "\n",
    "#Promedio de revenue generado por cliente\n",
    "y = suspensions.groupby([\"line_id\"]).mean()\n",
    "\n",
    "#Merge de ambos\n",
    "suspensions = pd.merge(z, y, on = \"line_id\", how = \"inner\").reset_index()\n",
    "\n",
    "#Df limpio\n",
    "suspensions.columns = [\"line_id\", \"suspension_count\", \"mean_suspension_days\"]"
   ]
  },
  {
   "cell_type": "markdown",
   "metadata": {},
   "source": [
    "# 7. Network usage domestic"
   ]
  },
  {
   "cell_type": "code",
   "execution_count": 50,
   "metadata": {},
   "outputs": [
    {
     "name": "stdout",
     "output_type": "stream",
     "text": [
      "<class 'pandas.core.frame.DataFrame'>\n",
      "RangeIndex: 6381966 entries, 0 to 6381965\n",
      "Data columns (total 13 columns):\n",
      " #   Column             Dtype  \n",
      "---  ------             -----  \n",
      " 0   line_id            object \n",
      " 1   date               object \n",
      " 2   hotspot_kb         float64\n",
      " 3   kb_5g              float64\n",
      " 4   mms_in             int64  \n",
      " 5   mms_out            int64  \n",
      " 6   sms_in             int64  \n",
      " 7   sms_out            int64  \n",
      " 8   total_kb           float64\n",
      " 9   voice_count_in     int64  \n",
      " 10  voice_count_total  int64  \n",
      " 11  voice_min_in       int64  \n",
      " 12  voice_min_out      int64  \n",
      "dtypes: float64(3), int64(8), object(2)\n",
      "memory usage: 633.0+ MB\n"
     ]
    }
   ],
   "source": [
    "network_usage_domestic=pd.read_csv(data_folder+\"data/dev/network_usage_domestic.csv\")\n",
    "\n",
    "network_usage_domestic.info()"
   ]
  },
  {
   "cell_type": "code",
   "execution_count": 51,
   "metadata": {},
   "outputs": [
    {
     "name": "stdout",
     "output_type": "stream",
     "text": [
      "Empty DataFrame\n",
      "Columns: [line_id, date, hotspot_kb, kb_5g, mms_in, mms_out, sms_in, sms_out, total_kb, voice_count_in, voice_count_total, voice_min_in, voice_min_out]\n",
      "Index: []\n",
      "Empty DataFrame\n",
      "Columns: [line_id, date, hotspot_kb, kb_5g, mms_in, mms_out, sms_in, sms_out, total_kb, voice_count_in, voice_count_total, voice_min_in, voice_min_out]\n",
      "Index: []\n",
      "Empty DataFrame\n",
      "Columns: [line_id, date, hotspot_kb, kb_5g, mms_in, mms_out, sms_in, sms_out, total_kb, voice_count_in, voice_count_total, voice_min_in, voice_min_out]\n",
      "Index: []\n",
      "Empty DataFrame\n",
      "Columns: [line_id, date, hotspot_kb, kb_5g, mms_in, mms_out, sms_in, sms_out, total_kb, voice_count_in, voice_count_total, voice_min_in, voice_min_out]\n",
      "Index: []\n",
      "Empty DataFrame\n",
      "Columns: [line_id, date, hotspot_kb, kb_5g, mms_in, mms_out, sms_in, sms_out, total_kb, voice_count_in, voice_count_total, voice_min_in, voice_min_out]\n",
      "Index: []\n",
      "Empty DataFrame\n",
      "Columns: [line_id, date, hotspot_kb, kb_5g, mms_in, mms_out, sms_in, sms_out, total_kb, voice_count_in, voice_count_total, voice_min_in, voice_min_out]\n",
      "Index: []\n",
      "Empty DataFrame\n",
      "Columns: [line_id, date, hotspot_kb, kb_5g, mms_in, mms_out, sms_in, sms_out, total_kb, voice_count_in, voice_count_total, voice_min_in, voice_min_out]\n",
      "Index: []\n",
      "Empty DataFrame\n",
      "Columns: [line_id, date, hotspot_kb, kb_5g, mms_in, mms_out, sms_in, sms_out, total_kb, voice_count_in, voice_count_total, voice_min_in, voice_min_out]\n",
      "Index: []\n",
      "Empty DataFrame\n",
      "Columns: [line_id, date, hotspot_kb, kb_5g, mms_in, mms_out, sms_in, sms_out, total_kb, voice_count_in, voice_count_total, voice_min_in, voice_min_out]\n",
      "Index: []\n",
      "Empty DataFrame\n",
      "Columns: [line_id, date, hotspot_kb, kb_5g, mms_in, mms_out, sms_in, sms_out, total_kb, voice_count_in, voice_count_total, voice_min_in, voice_min_out]\n",
      "Index: []\n",
      "Empty DataFrame\n",
      "Columns: [line_id, date, hotspot_kb, kb_5g, mms_in, mms_out, sms_in, sms_out, total_kb, voice_count_in, voice_count_total, voice_min_in, voice_min_out]\n",
      "Index: []\n",
      "Empty DataFrame\n",
      "Columns: [line_id, date, hotspot_kb, kb_5g, mms_in, mms_out, sms_in, sms_out, total_kb, voice_count_in, voice_count_total, voice_min_in, voice_min_out]\n",
      "Index: []\n",
      "Empty DataFrame\n",
      "Columns: [line_id, date, hotspot_kb, kb_5g, mms_in, mms_out, sms_in, sms_out, total_kb, voice_count_in, voice_count_total, voice_min_in, voice_min_out]\n",
      "Index: []\n"
     ]
    }
   ],
   "source": [
    "# Cleaning and featuring\n",
    "\n",
    "network_usage_domestic[\"date\"] = pd.to_datetime(network_usage_domestic[\"date\"], format = '%Y-%m-%d')\n",
    "\n",
    "for i in network_usage_domestic.columns.tolist():\n",
    "    \n",
    "    # creating bool series True for NaN values \n",
    "    bool_series = pd.isnull(network_usage_domestic[i]) \n",
    "\n",
    "    # filtering data\n",
    "    print(network_usage_domestic[bool_series]) "
   ]
  },
  {
   "cell_type": "markdown",
   "metadata": {},
   "source": [
    "# 8. LRP Points\n"
   ]
  },
  {
   "cell_type": "code",
   "execution_count": 52,
   "metadata": {},
   "outputs": [
    {
     "name": "stdout",
     "output_type": "stream",
     "text": [
      "<class 'pandas.core.frame.DataFrame'>\n",
      "RangeIndex: 8860 entries, 0 to 8859\n",
      "Data columns (total 5 columns):\n",
      " #   Column          Non-Null Count  Dtype  \n",
      "---  ------          --------------  -----  \n",
      " 0   line_id         8860 non-null   object \n",
      " 1   quantity        8859 non-null   float64\n",
      " 2   status          8860 non-null   object \n",
      " 3   total_quantity  8859 non-null   float64\n",
      " 4   update_date     8860 non-null   object \n",
      "dtypes: float64(2), object(3)\n",
      "memory usage: 346.2+ KB\n"
     ]
    }
   ],
   "source": [
    "# Reading csv\n",
    "\n",
    "lrp_points=pd.read_csv(data_folder+\"data/dev/lrp_points.csv\")\n",
    "\n",
    "lrp_points.info()"
   ]
  },
  {
   "cell_type": "code",
   "execution_count": 53,
   "metadata": {},
   "outputs": [
    {
     "data": {
      "text/html": [
       "<div>\n",
       "<style scoped>\n",
       "    .dataframe tbody tr th:only-of-type {\n",
       "        vertical-align: middle;\n",
       "    }\n",
       "\n",
       "    .dataframe tbody tr th {\n",
       "        vertical-align: top;\n",
       "    }\n",
       "\n",
       "    .dataframe thead th {\n",
       "        text-align: right;\n",
       "    }\n",
       "</style>\n",
       "<table border=\"1\" class=\"dataframe\">\n",
       "  <thead>\n",
       "    <tr style=\"text-align: right;\">\n",
       "      <th></th>\n",
       "      <th>line_id</th>\n",
       "      <th>quantity</th>\n",
       "      <th>status</th>\n",
       "      <th>total_quantity</th>\n",
       "      <th>update_date</th>\n",
       "    </tr>\n",
       "  </thead>\n",
       "  <tbody>\n",
       "    <tr>\n",
       "      <th>1029</th>\n",
       "      <td>6b14e3db-483f-44ea-ab28-80f1473576c4</td>\n",
       "      <td>NaN</td>\n",
       "      <td>ENROLLED</td>\n",
       "      <td>NaN</td>\n",
       "      <td>2021-01-25</td>\n",
       "    </tr>\n",
       "  </tbody>\n",
       "</table>\n",
       "</div>"
      ],
      "text/plain": [
       "                                   line_id  quantity    status  \\\n",
       "1029  6b14e3db-483f-44ea-ab28-80f1473576c4       NaN  ENROLLED   \n",
       "\n",
       "      total_quantity update_date  \n",
       "1029             NaN  2021-01-25  "
      ]
     },
     "execution_count": 53,
     "metadata": {},
     "output_type": "execute_result"
    }
   ],
   "source": [
    "# Cleaning\n",
    "\n",
    "lrp_points[\"update_date\"] = pd.to_datetime(lrp_points[\"update_date\"], format = '%Y-%m-%d')\n",
    "\n",
    "# creating bool series True for NaN values \n",
    "bool_series = pd.isnull(lrp_points[\"quantity\"]) \n",
    "    \n",
    "# filtering data\n",
    "lrp_points[bool_series] \n"
   ]
  },
  {
   "cell_type": "code",
   "execution_count": 54,
   "metadata": {},
   "outputs": [
    {
     "name": "stdout",
     "output_type": "stream",
     "text": [
      "<class 'pandas.core.frame.DataFrame'>\n",
      "RangeIndex: 8860 entries, 0 to 8859\n",
      "Data columns (total 5 columns):\n",
      " #   Column          Non-Null Count  Dtype         \n",
      "---  ------          --------------  -----         \n",
      " 0   line_id         8860 non-null   object        \n",
      " 1   quantity        8860 non-null   float64       \n",
      " 2   status          8860 non-null   object        \n",
      " 3   total_quantity  8860 non-null   float64       \n",
      " 4   update_date     8860 non-null   datetime64[ns]\n",
      "dtypes: datetime64[ns](1), float64(2), object(2)\n",
      "memory usage: 346.2+ KB\n"
     ]
    }
   ],
   "source": [
    "values = {'quantity': 0, 'total_quantity': 0}\n",
    "\n",
    "lrp_points = lrp_points.fillna(value=values)\n",
    "\n",
    "lrp_points.info()"
   ]
  },
  {
   "cell_type": "markdown",
   "metadata": {},
   "source": [
    "# 9. LRP Enrollment"
   ]
  },
  {
   "cell_type": "code",
   "execution_count": 55,
   "metadata": {},
   "outputs": [
    {
     "name": "stdout",
     "output_type": "stream",
     "text": [
      "<class 'pandas.core.frame.DataFrame'>\n",
      "RangeIndex: 17634 entries, 0 to 17633\n",
      "Data columns (total 3 columns):\n",
      " #   Column               Non-Null Count  Dtype \n",
      "---  ------               --------------  ----- \n",
      " 0   line_id              17634 non-null  object\n",
      " 1   lrp_enrolled         17634 non-null  object\n",
      " 2   lrp_enrollment_date  17634 non-null  object\n",
      "dtypes: object(3)\n",
      "memory usage: 413.4+ KB\n"
     ]
    }
   ],
   "source": [
    "lrp_enrollment=pd.read_csv(data_folder+\"data/dev/lrp_enrollment.csv\")\n",
    "\n",
    "lrp_enrollment.info()"
   ]
  },
  {
   "cell_type": "code",
   "execution_count": 56,
   "metadata": {},
   "outputs": [],
   "source": [
    "lrp_enrollment[\"lrp_enrollment_date\"] = pd.to_datetime(lrp_enrollment[\"lrp_enrollment_date\"], format = '%Y-%m-%d')"
   ]
  },
  {
   "cell_type": "code",
   "execution_count": 57,
   "metadata": {},
   "outputs": [],
   "source": [
    "lrp_enrollment['lrp_enrolled'].replace({'Y':1}, inplace=True)"
   ]
  },
  {
   "cell_type": "code",
   "execution_count": 58,
   "metadata": {},
   "outputs": [],
   "source": [
    "# network_usage_domestic noise\n",
    "\n",
    "net_numeric = numerical_cleaner(network_usage_domestic)\n",
    "\n",
    "# lrp_points noise\n",
    "\n",
    "lrp_pNumeric = numerical_cleaner(lrp_points)\n",
    "\n",
    "lrp_pCat = categorical_cleaner(lrp_points)\n",
    "\n",
    "# lrp_enrollment noise\n",
    "\n",
    "lrp_enCat = categorical_cleaner(lrp_enrollment)"
   ]
  },
  {
   "cell_type": "code",
   "execution_count": 59,
   "metadata": {},
   "outputs": [
    {
     "data": {
      "text/plain": [
       "['status']"
      ]
     },
     "execution_count": 59,
     "metadata": {},
     "output_type": "execute_result"
    }
   ],
   "source": [
    "def flattenList(nested_list):\n",
    "    results = []\n",
    "    for i in nested_list:\n",
    "        if isinstance(i, list):\n",
    "            results.extend(i)\n",
    "            results = flattenList(results)\n",
    "        else:\n",
    "            results.append(i)\n",
    "    return results\n",
    "\n",
    "noise = flattenList(net_numeric + lrp_pNumeric + lrp_pCat + lrp_enCat)\n",
    "\n",
    "noise"
   ]
  },
  {
   "cell_type": "code",
   "execution_count": 60,
   "metadata": {},
   "outputs": [
    {
     "name": "stdout",
     "output_type": "stream",
     "text": [
      "column_created\n",
      "column_created\n",
      "column_created\n"
     ]
    }
   ],
   "source": [
    "count_noise = value_count_filter(network_usage_domestic)\n",
    "\n",
    "network_usage_domestic.drop(count_noise, axis='columns', inplace=True)\n",
    "\n",
    "network_usage_mean = network_usage_domestic.groupby(\"line_id\").mean().reset_index()\n",
    "\n",
    "# Creating totals\n",
    "\n",
    "total_creator(network_usage_mean,\"voice_min_in\",\"voice_min_out\")\n",
    "total_creator(network_usage_mean,\"sms_in\",\"sms_out\")\n",
    "total_creator(network_usage_mean,\"mms_in\",\"mms_out\")\n",
    "\n",
    "# Droping previous columns no longer necessary\n",
    "\n",
    "network_usage_mean.drop([\"voice_min_in\",\"voice_min_out\",\"voice_count_in\",\"mms_in\",\"mms_out\",\"sms_in\",\"sms_out\"], axis='columns', inplace=True)\n",
    "\n",
    "# Final df\n",
    "\n",
    "network_usage_domestic = network_usage_mean[[\"line_id\",\"voice_count_total\",\"sms_total\",\"total_kb\"]]\n"
   ]
  },
  {
   "cell_type": "code",
   "execution_count": 61,
   "metadata": {},
   "outputs": [],
   "source": [
    "df_7to9 = pd.merge(network_usage_domestic, lrp_points[[\"line_id\",\"total_quantity\"]], on = \"line_id\", how = 'left')\n",
    "\n",
    "df_7to9 = pd.merge(df_7to9, lrp_enrollment[[\"line_id\",\"lrp_enrolled\"]], on = \"line_id\", how = 'left')\n",
    "\n",
    "df_7to9[\"lrp_enrolled\"] = df_7to9[\"lrp_enrolled\"].fillna(0)  "
   ]
  },
  {
   "cell_type": "code",
   "execution_count": 62,
   "metadata": {},
   "outputs": [],
   "source": [
    "df_7to9[\"total_quantity\"] = df_7to9[\"total_quantity\"].fillna(0)"
   ]
  },
  {
   "cell_type": "code",
   "execution_count": 63,
   "metadata": {},
   "outputs": [
    {
     "name": "stdout",
     "output_type": "stream",
     "text": [
      "<class 'pandas.core.frame.DataFrame'>\n",
      "Int64Index: 55126 entries, 0 to 55125\n",
      "Data columns (total 6 columns):\n",
      " #   Column             Non-Null Count  Dtype  \n",
      "---  ------             --------------  -----  \n",
      " 0   line_id            55126 non-null  object \n",
      " 1   voice_count_total  55126 non-null  float64\n",
      " 2   sms_total          55126 non-null  float64\n",
      " 3   total_kb           55126 non-null  float64\n",
      " 4   total_quantity     55126 non-null  float64\n",
      " 5   lrp_enrolled       55126 non-null  float64\n",
      "dtypes: float64(5), object(1)\n",
      "memory usage: 2.9+ MB\n"
     ]
    }
   ],
   "source": [
    "df_7to9.info()"
   ]
  },
  {
   "cell_type": "markdown",
   "metadata": {},
   "source": [
    "# JOINS"
   ]
  },
  {
   "cell_type": "code",
   "execution_count": 286,
   "metadata": {},
   "outputs": [],
   "source": [
    "df = pd.merge(df_1to3, redemptions, on = \"line_id\", how = \"left\")\n",
    "\n",
    "df = pd.merge(df, deactivations, on = \"line_id\", how = \"left\")\n",
    "\n",
    "df = pd.merge(df, suspensions, on = \"line_id\", how = \"left\")\n",
    "\n",
    "df = pd.merge(df, df_7to9, on = \"line_id\", how = \"left\")\n",
    "\n",
    "df = df.drop_duplicates(subset=['line_id'])\n",
    "\n",
    "#df.drop(\"date_observed\", axis = 1, inplace = True)\n",
    "\n",
    "#df.drop(\"mean_revenue\", axis = 1, inplace = True)\n",
    "\n",
    "df.drop(\"year_released\", axis = 1, inplace = True)\n",
    "\n",
    "#df.drop(\"wi_fi\", axis = 1, inplace = True)\n",
    "\n",
    "df.drop(\"line_id\", axis = 1, inplace = True)\n",
    "\n",
    "#df.drop(\"total_ram\", axis = 1, inplace = True)\n",
    "\n",
    "#df.drop(\"carrier\", axis = 1, inplace = True)\n",
    "\n",
    "#df.drop(\"sms_total\", axis = 1, inplace = True)\n",
    "\n",
    "#df.drop(\"touch_screen\", axis = 1, inplace = True)"
   ]
  },
  {
   "cell_type": "code",
   "execution_count": 287,
   "metadata": {},
   "outputs": [
    {
     "name": "stdout",
     "output_type": "stream",
     "text": [
      "<class 'pandas.core.frame.DataFrame'>\n",
      "Int64Index: 55868 entries, 0 to 55875\n",
      "Data columns (total 20 columns):\n",
      " #   Column                  Non-Null Count  Dtype         \n",
      "---  ------                  --------------  -----         \n",
      " 0   date_observed           55868 non-null  datetime64[ns]\n",
      " 1   upgrade                 55868 non-null  int64         \n",
      " 2   carrier                 55868 non-null  float64       \n",
      " 3   total_ram               55868 non-null  float64       \n",
      " 4   touch_screen            55868 non-null  int64         \n",
      " 5   wi_fi                   55868 non-null  int64         \n",
      " 6   activation_to_observed  55868 non-null  float64       \n",
      " 7   redemption_to_observed  55868 non-null  float64       \n",
      " 8   released_to_observed    55868 non-null  int64         \n",
      " 9   plan_gsma               55868 non-null  float64       \n",
      " 10  redemption_count        54885 non-null  float64       \n",
      " 11  mean_revenue            54885 non-null  float64       \n",
      " 12  deactivations_count     44757 non-null  float64       \n",
      " 13  suspension_count        48539 non-null  float64       \n",
      " 14  mean_suspension_days    48539 non-null  float64       \n",
      " 15  voice_count_total       55118 non-null  float64       \n",
      " 16  sms_total               55118 non-null  float64       \n",
      " 17  total_kb                55118 non-null  float64       \n",
      " 18  total_quantity          55118 non-null  float64       \n",
      " 19  lrp_enrolled            55118 non-null  float64       \n",
      "dtypes: datetime64[ns](1), float64(15), int64(4)\n",
      "memory usage: 9.0 MB\n"
     ]
    }
   ],
   "source": [
    "df.info()"
   ]
  },
  {
   "cell_type": "code",
   "execution_count": 288,
   "metadata": {},
   "outputs": [
    {
     "name": "stdout",
     "output_type": "stream",
     "text": [
      "<class 'pandas.core.frame.DataFrame'>\n",
      "Int64Index: 55868 entries, 0 to 55875\n",
      "Data columns (total 20 columns):\n",
      " #   Column                  Non-Null Count  Dtype         \n",
      "---  ------                  --------------  -----         \n",
      " 0   date_observed           55868 non-null  datetime64[ns]\n",
      " 1   upgrade                 55868 non-null  int64         \n",
      " 2   carrier                 55868 non-null  float64       \n",
      " 3   total_ram               55868 non-null  float64       \n",
      " 4   touch_screen            55868 non-null  int64         \n",
      " 5   wi_fi                   55868 non-null  int64         \n",
      " 6   activation_to_observed  55868 non-null  float64       \n",
      " 7   redemption_to_observed  55868 non-null  float64       \n",
      " 8   released_to_observed    55868 non-null  int64         \n",
      " 9   plan_gsma               55868 non-null  float64       \n",
      " 10  redemption_count        55868 non-null  float64       \n",
      " 11  mean_revenue            54885 non-null  float64       \n",
      " 12  deactivations_count     55868 non-null  float64       \n",
      " 13  suspension_count        55868 non-null  float64       \n",
      " 14  mean_suspension_days    48539 non-null  float64       \n",
      " 15  voice_count_total       55868 non-null  float64       \n",
      " 16  sms_total               55868 non-null  float64       \n",
      " 17  total_kb                55868 non-null  float64       \n",
      " 18  total_quantity          55868 non-null  float64       \n",
      " 19  lrp_enrolled            55868 non-null  float64       \n",
      "dtypes: datetime64[ns](1), float64(15), int64(4)\n",
      "memory usage: 9.0 MB\n"
     ]
    }
   ],
   "source": [
    "X = df\n",
    "\n",
    "X[\"lrp_enrolled\"] = X[\"lrp_enrolled\"].fillna(0)\n",
    "\n",
    "X[\"total_quantity\"] = X[\"total_quantity\"].fillna(0)\n",
    "\n",
    "X[\"sms_total\"] = X[\"sms_total\"].fillna(X[\"sms_total\"].median())\n",
    "\n",
    "X[\"total_kb\"] = X[\"total_kb\"].fillna(X[\"total_kb\"].median())\n",
    "\n",
    "X[\"voice_count_total\"] = X[\"voice_count_total\"].fillna(X[\"voice_count_total\"].median())\n",
    "\n",
    "X[\"redemption_count\"] = X[\"redemption_count\"].fillna(X[\"redemption_count\"].median())\n",
    "\n",
    "\n",
    "X[\"deactivations_count\"] = X[\"deactivations_count\"].fillna(X[\"deactivations_count\"].median())\n",
    "\n",
    "\n",
    "X[\"suspension_count\"] = X[\"suspension_count\"].fillna(X[\"suspension_count\"].median())\n",
    "\n",
    "X.info()\n"
   ]
  },
  {
   "cell_type": "code",
   "execution_count": 289,
   "metadata": {},
   "outputs": [
    {
     "name": "stdout",
     "output_type": "stream",
     "text": [
      "<class 'pandas.core.frame.DataFrame'>\n",
      "Int64Index: 48333 entries, 0 to 55875\n",
      "Data columns (total 20 columns):\n",
      " #   Column                  Non-Null Count  Dtype         \n",
      "---  ------                  --------------  -----         \n",
      " 0   date_observed           48333 non-null  datetime64[ns]\n",
      " 1   upgrade                 48333 non-null  int64         \n",
      " 2   carrier                 48333 non-null  float64       \n",
      " 3   total_ram               48333 non-null  float64       \n",
      " 4   touch_screen            48333 non-null  int64         \n",
      " 5   wi_fi                   48333 non-null  int64         \n",
      " 6   activation_to_observed  48333 non-null  float64       \n",
      " 7   redemption_to_observed  48333 non-null  float64       \n",
      " 8   released_to_observed    48333 non-null  int64         \n",
      " 9   plan_gsma               48333 non-null  float64       \n",
      " 10  redemption_count        48333 non-null  float64       \n",
      " 11  mean_revenue            48333 non-null  float64       \n",
      " 12  deactivations_count     48333 non-null  float64       \n",
      " 13  suspension_count        48333 non-null  float64       \n",
      " 14  mean_suspension_days    48333 non-null  float64       \n",
      " 15  voice_count_total       48333 non-null  float64       \n",
      " 16  sms_total               48333 non-null  float64       \n",
      " 17  total_kb                48333 non-null  float64       \n",
      " 18  total_quantity          48333 non-null  float64       \n",
      " 19  lrp_enrolled            48333 non-null  float64       \n",
      "dtypes: datetime64[ns](1), float64(15), int64(4)\n",
      "memory usage: 7.7 MB\n"
     ]
    }
   ],
   "source": [
    "df_dropna = X.dropna()\n",
    "\n",
    "df_dropna.info()"
   ]
  },
  {
   "cell_type": "code",
   "execution_count": 290,
   "metadata": {},
   "outputs": [
    {
     "name": "stdout",
     "output_type": "stream",
     "text": [
      "<class 'pandas.core.frame.DataFrame'>\n",
      "Int64Index: 48333 entries, 0 to 55875\n",
      "Data columns (total 15 columns):\n",
      " #   Column                  Non-Null Count  Dtype  \n",
      "---  ------                  --------------  -----  \n",
      " 0   upgrade                 48333 non-null  int64  \n",
      " 1   carrier                 48333 non-null  float64\n",
      " 2   total_ram               48333 non-null  float64\n",
      " 3   touch_screen            48333 non-null  int64  \n",
      " 4   activation_to_observed  48333 non-null  float64\n",
      " 5   redemption_to_observed  48333 non-null  float64\n",
      " 6   plan_gsma               48333 non-null  float64\n",
      " 7   mean_revenue            48333 non-null  float64\n",
      " 8   suspension_count        48333 non-null  float64\n",
      " 9   mean_suspension_days    48333 non-null  float64\n",
      " 10  voice_count_total       48333 non-null  float64\n",
      " 11  sms_total               48333 non-null  float64\n",
      " 12  total_kb                48333 non-null  float64\n",
      " 13  total_quantity          48333 non-null  float64\n",
      " 14  lrp_enrolled            48333 non-null  float64\n",
      "dtypes: float64(13), int64(2)\n",
      "memory usage: 5.9 MB\n"
     ]
    },
    {
     "name": "stderr",
     "output_type": "stream",
     "text": [
      "/opt/conda/lib/python3.7/site-packages/pandas/core/frame.py:3997: SettingWithCopyWarning: \n",
      "A value is trying to be set on a copy of a slice from a DataFrame\n",
      "\n",
      "See the caveats in the documentation: https://pandas.pydata.org/pandas-docs/stable/user_guide/indexing.html#returning-a-view-versus-a-copy\n",
      "  errors=errors,\n"
     ]
    }
   ],
   "source": [
    "df_dropna.drop([\"deactivations_count\",\"date_observed\",\"wi_fi\",\"released_to_observed\",\"redemption_count\"], axis = 1, inplace = True)\n",
    "\n",
    "df_dropna.info()"
   ]
  },
  {
   "cell_type": "code",
   "execution_count": 291,
   "metadata": {},
   "outputs": [
    {
     "name": "stdout",
     "output_type": "stream",
     "text": [
      "PointbiserialrResult(correlation=0.1822531026110119, pvalue=0.0) carrier\n",
      "PointbiserialrResult(correlation=0.2511697574587066, pvalue=0.0) total_ram\n",
      "PointbiserialrResult(correlation=0.0659285875702987, pvalue=1.0524289112198819e-47) touch_screen\n",
      "PointbiserialrResult(correlation=0.2949364209892084, pvalue=0.0) activation_to_observed\n",
      "PointbiserialrResult(correlation=-0.24116056590615742, pvalue=0.0) redemption_to_observed\n",
      "PointbiserialrResult(correlation=0.4015749857016053, pvalue=0.0) plan_gsma\n",
      "PointbiserialrResult(correlation=0.10939571862251724, pvalue=1.4624070208091084e-128) mean_revenue\n",
      "PointbiserialrResult(correlation=-0.03839540610197914, pvalue=3.0656512714464836e-17) suspension_count\n",
      "PointbiserialrResult(correlation=-0.3023405319191462, pvalue=0.0) mean_suspension_days\n",
      "PointbiserialrResult(correlation=0.1626956581703203, pvalue=6.388490079002423e-284) voice_count_total\n",
      "PointbiserialrResult(correlation=0.13923632742920705, pvalue=9.00775280275786e-208) sms_total\n",
      "PointbiserialrResult(correlation=0.06608753088090683, pvalue=6.309236398745488e-48) total_kb\n",
      "PointbiserialrResult(correlation=-0.02655721488172491, pvalue=5.238262237326663e-09) total_quantity\n",
      "PointbiserialrResult(correlation=0.22729294671390987, pvalue=0.0) lrp_enrolled\n",
      "PointBiserial Results for your dataframe\n"
     ]
    }
   ],
   "source": [
    "from scipy import stats\n",
    "\n",
    "def point_biserial(df):\n",
    "\n",
    "    lista_col = df.columns.tolist()\n",
    "\n",
    "    # remuevo columnas a las que no quisiera aplicar la correlacion\n",
    "    #lista_col.remove('date_observed')\n",
    "    lista_col.remove('upgrade')\n",
    "\n",
    "    for i in lista_col:\n",
    "\n",
    "        a = df[\"upgrade\"].to_numpy()\n",
    "\n",
    "        b = df[i].to_numpy()\n",
    "        \n",
    "        print(stats.pointbiserialr(a, b), i)\n",
    "        \n",
    "    return print(\"PointBiserial Results for your dataframe\")\n",
    "\n",
    "point_biserial(df_dropna)"
   ]
  },
  {
   "cell_type": "code",
   "execution_count": 292,
   "metadata": {},
   "outputs": [],
   "source": [
    "# deactivations count, dice no tener relacion con p value > 0.05"
   ]
  },
  {
   "cell_type": "code",
   "execution_count": 293,
   "metadata": {},
   "outputs": [],
   "source": [
    "# X will carry out the variables and y will be the target\n",
    "\n",
    "y = df_dropna[\"upgrade\"].copy()\n",
    "\n",
    "X = df_dropna.drop(\"upgrade\", axis = 1)"
   ]
  },
  {
   "cell_type": "code",
   "execution_count": 294,
   "metadata": {
    "scrolled": true
   },
   "outputs": [
    {
     "data": {
      "text/html": [
       "<div>\n",
       "<style scoped>\n",
       "    .dataframe tbody tr th:only-of-type {\n",
       "        vertical-align: middle;\n",
       "    }\n",
       "\n",
       "    .dataframe tbody tr th {\n",
       "        vertical-align: top;\n",
       "    }\n",
       "\n",
       "    .dataframe thead th {\n",
       "        text-align: right;\n",
       "    }\n",
       "</style>\n",
       "<table border=\"1\" class=\"dataframe\">\n",
       "  <thead>\n",
       "    <tr style=\"text-align: right;\">\n",
       "      <th></th>\n",
       "      <th>carrier</th>\n",
       "      <th>total_ram</th>\n",
       "      <th>touch_screen</th>\n",
       "      <th>activation_to_observed</th>\n",
       "      <th>redemption_to_observed</th>\n",
       "      <th>plan_gsma</th>\n",
       "      <th>mean_revenue</th>\n",
       "      <th>suspension_count</th>\n",
       "      <th>mean_suspension_days</th>\n",
       "      <th>voice_count_total</th>\n",
       "      <th>sms_total</th>\n",
       "      <th>total_kb</th>\n",
       "      <th>total_quantity</th>\n",
       "      <th>lrp_enrolled</th>\n",
       "    </tr>\n",
       "  </thead>\n",
       "  <tbody>\n",
       "    <tr>\n",
       "      <th>0</th>\n",
       "      <td>0.295844</td>\n",
       "      <td>0.323391</td>\n",
       "      <td>1</td>\n",
       "      <td>951.0</td>\n",
       "      <td>20.0</td>\n",
       "      <td>0.536592</td>\n",
       "      <td>44.225806</td>\n",
       "      <td>3.0</td>\n",
       "      <td>12.000000</td>\n",
       "      <td>0.222222</td>\n",
       "      <td>0.627778</td>\n",
       "      <td>2.871749e+05</td>\n",
       "      <td>0.0</td>\n",
       "      <td>1.0</td>\n",
       "    </tr>\n",
       "    <tr>\n",
       "      <th>1</th>\n",
       "      <td>0.295844</td>\n",
       "      <td>0.377325</td>\n",
       "      <td>1</td>\n",
       "      <td>699.0</td>\n",
       "      <td>20.0</td>\n",
       "      <td>0.553458</td>\n",
       "      <td>50.728800</td>\n",
       "      <td>1.0</td>\n",
       "      <td>1.000000</td>\n",
       "      <td>3.461111</td>\n",
       "      <td>0.233333</td>\n",
       "      <td>5.256640e+05</td>\n",
       "      <td>0.0</td>\n",
       "      <td>1.0</td>\n",
       "    </tr>\n",
       "    <tr>\n",
       "      <th>2</th>\n",
       "      <td>0.295844</td>\n",
       "      <td>0.193030</td>\n",
       "      <td>1</td>\n",
       "      <td>175.0</td>\n",
       "      <td>20.0</td>\n",
       "      <td>0.553458</td>\n",
       "      <td>35.000000</td>\n",
       "      <td>4.0</td>\n",
       "      <td>11.666667</td>\n",
       "      <td>1.763314</td>\n",
       "      <td>0.301775</td>\n",
       "      <td>1.990593e+05</td>\n",
       "      <td>0.0</td>\n",
       "      <td>0.0</td>\n",
       "    </tr>\n",
       "    <tr>\n",
       "      <th>4</th>\n",
       "      <td>0.295844</td>\n",
       "      <td>0.675862</td>\n",
       "      <td>1</td>\n",
       "      <td>191.0</td>\n",
       "      <td>20.0</td>\n",
       "      <td>0.536592</td>\n",
       "      <td>54.000000</td>\n",
       "      <td>2.0</td>\n",
       "      <td>1.125000</td>\n",
       "      <td>6.061111</td>\n",
       "      <td>2.900000</td>\n",
       "      <td>1.023210e+06</td>\n",
       "      <td>0.0</td>\n",
       "      <td>0.0</td>\n",
       "    </tr>\n",
       "    <tr>\n",
       "      <th>5</th>\n",
       "      <td>0.000402</td>\n",
       "      <td>0.248187</td>\n",
       "      <td>0</td>\n",
       "      <td>65.0</td>\n",
       "      <td>25.0</td>\n",
       "      <td>0.098328</td>\n",
       "      <td>20.000000</td>\n",
       "      <td>2.0</td>\n",
       "      <td>13.428571</td>\n",
       "      <td>15.615385</td>\n",
       "      <td>1.200000</td>\n",
       "      <td>3.190443e+05</td>\n",
       "      <td>0.0</td>\n",
       "      <td>0.0</td>\n",
       "    </tr>\n",
       "  </tbody>\n",
       "</table>\n",
       "</div>"
      ],
      "text/plain": [
       "    carrier  total_ram  touch_screen  activation_to_observed  \\\n",
       "0  0.295844   0.323391             1                   951.0   \n",
       "1  0.295844   0.377325             1                   699.0   \n",
       "2  0.295844   0.193030             1                   175.0   \n",
       "4  0.295844   0.675862             1                   191.0   \n",
       "5  0.000402   0.248187             0                    65.0   \n",
       "\n",
       "   redemption_to_observed  plan_gsma  mean_revenue  suspension_count  \\\n",
       "0                    20.0   0.536592     44.225806               3.0   \n",
       "1                    20.0   0.553458     50.728800               1.0   \n",
       "2                    20.0   0.553458     35.000000               4.0   \n",
       "4                    20.0   0.536592     54.000000               2.0   \n",
       "5                    25.0   0.098328     20.000000               2.0   \n",
       "\n",
       "   mean_suspension_days  voice_count_total  sms_total      total_kb  \\\n",
       "0             12.000000           0.222222   0.627778  2.871749e+05   \n",
       "1              1.000000           3.461111   0.233333  5.256640e+05   \n",
       "2             11.666667           1.763314   0.301775  1.990593e+05   \n",
       "4              1.125000           6.061111   2.900000  1.023210e+06   \n",
       "5             13.428571          15.615385   1.200000  3.190443e+05   \n",
       "\n",
       "   total_quantity  lrp_enrolled  \n",
       "0             0.0           1.0  \n",
       "1             0.0           1.0  \n",
       "2             0.0           0.0  \n",
       "4             0.0           0.0  \n",
       "5             0.0           0.0  "
      ]
     },
     "execution_count": 294,
     "metadata": {},
     "output_type": "execute_result"
    }
   ],
   "source": [
    "X.head()"
   ]
  },
  {
   "cell_type": "code",
   "execution_count": 295,
   "metadata": {},
   "outputs": [
    {
     "name": "stdout",
     "output_type": "stream",
     "text": [
      "<class 'pandas.core.frame.DataFrame'>\n",
      "Int64Index: 48333 entries, 0 to 55875\n",
      "Data columns (total 14 columns):\n",
      " #   Column                  Non-Null Count  Dtype  \n",
      "---  ------                  --------------  -----  \n",
      " 0   carrier                 48333 non-null  float64\n",
      " 1   total_ram               48333 non-null  float64\n",
      " 2   touch_screen            48333 non-null  int64  \n",
      " 3   activation_to_observed  48333 non-null  float64\n",
      " 4   redemption_to_observed  48333 non-null  float64\n",
      " 5   plan_gsma               48333 non-null  float64\n",
      " 6   mean_revenue            48333 non-null  float64\n",
      " 7   suspension_count        48333 non-null  float64\n",
      " 8   mean_suspension_days    48333 non-null  float64\n",
      " 9   voice_count_total       48333 non-null  float64\n",
      " 10  sms_total               48333 non-null  float64\n",
      " 11  total_kb                48333 non-null  float64\n",
      " 12  total_quantity          48333 non-null  float64\n",
      " 13  lrp_enrolled            48333 non-null  float64\n",
      "dtypes: float64(13), int64(1)\n",
      "memory usage: 5.5 MB\n"
     ]
    }
   ],
   "source": [
    "X.info()"
   ]
  },
  {
   "cell_type": "code",
   "execution_count": 282,
   "metadata": {},
   "outputs": [],
   "source": [
    "def summary_PCA(df):\n",
    "\n",
    "    scaler = StandardScaler()\n",
    "    scaler.fit(df)\n",
    "    df_scaled = scaler.transform(df)\n",
    "\n",
    "    pca = PCA()\n",
    "\n",
    "    pca.fit(df_scaled)\n",
    "\n",
    "    pca_data = pca.transform(df_scaled)\n",
    "    \n",
    "    plt.figure(figsize=(20,10))\n",
    "    \n",
    "    print(np.round(pca.explained_variance_ratio_ * 100, decimals=1))\n",
    "\n",
    "    per_var = np.round(pca.explained_variance_ratio_ * 100, decimals=1)\n",
    "    labels = ['PC' +str(x) for x in range(1, len(per_var)+1)]\n",
    "    plt.bar(x=range(1, len(per_var)+1), height=per_var, tick_label = labels)\n",
    "    plt.ylabel('Percentage of explained variance')\n",
    "    plt.xlabel('Principal Component')\n",
    "    plt.title('Scree Plot')\n",
    "    plt.show()\n",
    "    \n",
    "    def biplot(Z, components, pca_index_1, pca_index_2, labels, target):\n",
    "        \n",
    "        xc = Z[:, pca_index_1]\n",
    "        yc = Z[:, pca_index_2]\n",
    "        n = Z.shape[1]\n",
    "\n",
    "        indices = [pca_index_1, pca_index_2]\n",
    "        coeff = components[indices].T\n",
    "        \n",
    "        plt.figure(figsize=(20,10))\n",
    "\n",
    "        plt.scatter(xc, yc, target, alpha=0.5)\n",
    "\n",
    "        for i in range(n):\n",
    "            plt.arrow(0, 0, coeff[i, 0] * 2, coeff[i, 1] * 2, color='r', width=0.02, head_width=0.1)\n",
    "            plt.text(coeff[i,0] * 2.5, coeff[i,1] * 2.5, labels[i], color='k', ha='center', va='center')    \n",
    "\n",
    "        plt.xlim(-4, 4)\n",
    "        plt.ylim(-3, 3)\n",
    "        plt.xlabel(\"PC{}\".format(pca_index_1+1))\n",
    "        plt.ylabel(\"PC{}\".format(pca_index_2+1))\n",
    "        plt.grid()\n",
    "        \n",
    "    biplot(pca_data, pca.components_, 0, 1, labels, y)\n",
    "        \n",
    "    return print(\"Done PCA\")"
   ]
  },
  {
   "cell_type": "code",
   "execution_count": 283,
   "metadata": {},
   "outputs": [
    {
     "name": "stdout",
     "output_type": "stream",
     "text": [
      "[22.1 16.  14.3 12.6 10.3  9.9  7.7  7.2]\n"
     ]
    },
    {
     "data": {
      "image/png": "[encoded data removed]",
      "text/plain": [
       "<Figure size 1440x720 with 1 Axes>"
      ]
     },
     "metadata": {
      "needs_background": "light"
     },
     "output_type": "display_data"
    },
    {
     "name": "stdout",
     "output_type": "stream",
     "text": [
      "Done PCA\n"
     ]
    },
    {
     "data": {
      "image/png": "[encoded data removed]",
      "text/plain": [
       "<Figure size 1440x720 with 1 Axes>"
      ]
     },
     "metadata": {
      "needs_background": "light"
     },
     "output_type": "display_data"
    }
   ],
   "source": [
    "summary_PCA(X)"
   ]
  },
  {
   "cell_type": "code",
   "execution_count": 86,
   "metadata": {},
   "outputs": [],
   "source": [
    "def pca_to_SVM(X, y, n):\n",
    "\n",
    "    scaler = StandardScaler()\n",
    "\n",
    "    scaler.fit(X)\n",
    "\n",
    "    X_scaled = scaler.transform(X)\n",
    "\n",
    "    pca = PCA(n_components = n)\n",
    "\n",
    "    pca.fit(X_scaled)\n",
    "\n",
    "    pca_X = pca.transform(X_scaled)\n",
    "\n",
    "    return model_SVM(pca_X, y)"
   ]
  },
  {
   "cell_type": "code",
   "execution_count": 125,
   "metadata": {},
   "outputs": [],
   "source": [
    "# SVM\n",
    "\n",
    "def model_SVM(X, y):\n",
    "\n",
    "    X_train, X_test, y_train, y_test = train_test_split(X, y, train_size = 0.80, random_state = 12)\n",
    "\n",
    "    scaler = StandardScaler()\n",
    "\n",
    "    scaler.fit(X_train)\n",
    "\n",
    "    scaler.fit(X_test)\n",
    "\n",
    "    X_train_scaled = scaler.transform(X_train)\n",
    "\n",
    "    X_test_scaled = scaler.transform(X_test)\n",
    "\n",
    "    print(X_train_scaled.shape)\n",
    "\n",
    "    print(X_test_scaled.shape)\n",
    "    \n",
    "    trac_SVM = SVC(C = 100, gamma = 'scale', kernel = 'rbf',random_state = 12)\n",
    "\n",
    "    trac_SVM.fit(X_train_scaled, y_train)\n",
    "    \n",
    "    plot_confusion_matrix(trac_SVM,\n",
    "                     X_test_scaled,\n",
    "                     y_test,\n",
    "                     display_labels = [\"Did not upgrade\",\"Upgraded\"])\n",
    "    \n",
    "    y_pred=trac_SVM.predict(X_test_scaled)\n",
    "    \n",
    "    f1 = f1_score(y_test, y_pred)\n",
    "    \n",
    "    return print(\"Your f1 score is {}\".format(f1))\n",
    "    "
   ]
  },
  {
   "cell_type": "code",
   "execution_count": 285,
   "metadata": {},
   "outputs": [
    {
     "name": "stdout",
     "output_type": "stream",
     "text": [
      "(38666, 8)\n",
      "(9667, 8)\n",
      "Your f1 score is 0.6983479502345502\n"
     ]
    },
    {
     "data": {
      "image/png": "[encoded data removed]",
      "text/plain": [
       "<Figure size 432x288 with 2 Axes>"
      ]
     },
     "metadata": {
      "needs_background": "light"
     },
     "output_type": "display_data"
    }
   ],
   "source": [
    "model_SVM(X, y)"
   ]
  },
  {
   "cell_type": "code",
   "execution_count": null,
   "metadata": {},
   "outputs": [],
   "source": [
    "#SVM CV\n",
    "\n",
    "def model_SVM_CV(X, y):\n",
    "    \n",
    "    scaler = StandardScaler()\n",
    "    \n",
    "    scaler.fit(X)\n",
    "    \n",
    "    X_scaled = scaler.transform(X)\n",
    "    \n",
    "    trac_SVM = SVC(C = 100, gamma = 'scale', kernel = 'rbf',random_state = 12)\n",
    "    \n",
    "    scores = cross_val_score(trac_SVM, X_scaled, y, cv=5, scoring='f1')\n",
    "    \n",
    "    max_value = np.max(scores)\n",
    "    \n",
    "    return print(\"Your max f1 score is {}\".format(max_value))\n",
    "    "
   ]
  },
  {
   "cell_type": "markdown",
   "metadata": {},
   "source": [
    "# EVAL"
   ]
  },
  {
   "cell_type": "code",
   "execution_count": 296,
   "metadata": {},
   "outputs": [
    {
     "name": "stdout",
     "output_type": "stream",
     "text": [
      "Done labeling with OTHER total_ram column.\n",
      "Done labeling with OTHER plan_name column.\n",
      "column_created\n",
      "column_created\n",
      "column_created\n"
     ]
    }
   ],
   "source": [
    "upgrades=pd.read_csv(data_folder+\"data/eval/upgrades.csv\")\n",
    "\n",
    "upgrades[\"date_observed\"] = pd.to_datetime(upgrades[\"date_observed\"], format = '%Y-%m-%d')\n",
    "\n",
    "customer_info = pd.read_csv(data_folder+\"data/eval/customer_info.csv\")\n",
    "customer_info[\"first_activation_date\"] = pd.to_datetime(customer_info[\"first_activation_date\"], format = '%Y-%m-%d')\n",
    "customer_info[\"redemption_date\"] = pd.to_datetime(customer_info[\"redemption_date\"], format = '%Y-%m-%d')\n",
    "customer_info.drop('plan_subtype', axis='columns', inplace=True)\n",
    "\n",
    "phone_info=pd.read_csv(data_folder+\"data/eval/phone_info.csv\")\n",
    "\n",
    "# For later imputation\n",
    "\n",
    "def Updated_year_released(df, list_2019, list_2020, others):\n",
    "    \n",
    "    df[\"gsma_operating_system\"] = np.where(df[\"gsma_operating_system\"].isin([\"Android\",\"iOS\"]),\n",
    "                                                   df[\"gsma_operating_system\"], 'Android')\n",
    "    \n",
    "    for i in range(len(df)):\n",
    "        \n",
    "        if pd.isna(df[\"gsma_operating_system\"][i]):\n",
    "            \n",
    "            df.loc[i,\"gsma_operating_system\"] = \"Android\"\n",
    "            \n",
    "        else:\n",
    "            \n",
    "            pass\n",
    "        \n",
    "        if df[\"gsma_model_name\"][i] in list_2019:\n",
    "            \n",
    "            df.loc[i,\"year_released\"] = 2019\n",
    "            \n",
    "        elif df[\"gsma_model_name\"][i] in list_2020:\n",
    "            \n",
    "            df.loc[i,\"year_released\"] = 2020\n",
    "            \n",
    "        elif df[\"gsma_model_name\"][i] in others:\n",
    "            \n",
    "            df.loc[i, \"year_released\"] = 2017\n",
    "            \n",
    "        else:\n",
    "            \n",
    "            pass\n",
    "        \n",
    "    return df\n",
    "\n",
    "motorola_2019 = list(set([\"XT2005-1\",\"XT2005-3\",\"XT2005DL\",\"XT2029\",\"XT2029-1\",\"XT2025-2\",\"XT1952-4\",\n",
    "                 \"XT1952-6\",\"XT2013\",\"XT1955-6\",\"XT1962-6\",\"XT1980-4\",\"XT2005-1PP\",\n",
    "                \"XT2010-1\",\"XT2013-4\",\"XT2015-2\",\"XT2019-2\",\"XT2025-1\"]))\n",
    "\n",
    "motorola_2020 = list(set([\"XT2053-2\",\"XT2052-1\", \"XT2052-2\", \"XT2052-2PP\", \"XT2052-5\", \"XT2052-6\", \"XT2052-DL\",\n",
    "                \"XT2041-4\", \"XT2041-6\", \"XT2041-7\", \"XT2041-DL\",\"XT2045-3\",\"XT2043\",\"XT2043-4\",\"XT2043-7\",\n",
    "                \"XT2055-2\",\"XT2027-1\",\"XT2041-1\",\"XT2041-4\",\"XT2041-6\",\"XT2041DL\",\"XT2043-4\",\"XT2045-3\"]))\n",
    "\n",
    "listed_2017 = [\"LG442BG\",\"SM-S115DL\",\"Z723EL\"]\n",
    "\n",
    "lg_2019 = [\"LG L722DL\"]\n",
    "\n",
    "lg_2020 = [\"LG L455DL\",\"LG L125DL\",\"LG L555DL\"]\n",
    "\n",
    "sm_2019 = [\"SM-A015M/DS\",\"SM-A015T1\",\"SM-S111DL\",\"SM-A015A\",\"SM-S506DL\",\"SM-A102U1\",\"SM-A205U1\",\"SM-A207M/DS\",\n",
    "          \"SM-A505U1\",\"SM-A515F/DS\",\"SM-A515U\",\"SM-S102DL\",\"SM-S205DL\"]\n",
    "\n",
    "sm_2020 = [\"SM-G981U\",\"SM-G981U1\",\"SM-G985F/DS\",\"SM-G986U\",\"SM-G986U1\",\"SM-G988B/DS\",\"SM-G988U\",\"SM-G988U1\",\n",
    "          \"SM-G715U1\",\"SM-A715F/DS\",\"SM-A115M/DS\",\"SM-A215U\",\"SM-A715F/DS\",\"SM-G715U1\",\"SM-S215DL\"]\n",
    "\n",
    "model_2019 = motorola_2019 + lg_2019 + sm_2019\n",
    "\n",
    "model_2020 = motorola_2020 + lg_2020 + sm_2020\n",
    "\n",
    "# Matching models with their released year, which were searched in web pages.\n",
    "\n",
    "phone_info = Updated_year_released(phone_info, model_2019, model_2020, listed_2017)\n",
    "\n",
    "# Finald phone_info df\n",
    "\n",
    "phone_info = phone_info[['line_id','gsma_operating_system','total_ram','touch_screen','wi_fi','year_released']]\n",
    "\n",
    "replace_zero = [\"touch_screen\",\"wi_fi\"]\n",
    "\n",
    "for i in replace_zero:\n",
    "    \n",
    "    phone_info[i] = phone_info[i].fillna(0)\n",
    "    \n",
    "phone_info[\"year_released\"] = phone_info[\"year_released\"].astype(pd.Int64Dtype(), errors = \"ignore\").fillna(2018).astype(int)\n",
    "\n",
    "phone_info[[\"wi_fi\",\"touch_screen\"]] = phone_info[[\"wi_fi\",\"touch_screen\"]].astype(pd.Int64Dtype(), errors = \"ignore\").astype(int)\n",
    "\n",
    "\n",
    "df_1to3 = upgrades.merge(customer_info, on = 'line_id', how = 'inner')\n",
    "df_1to3 = df_1to3.merge(phone_info, on = 'line_id', how = 'inner')\n",
    "\n",
    "# Labeling categories\n",
    "\n",
    "Other_label(df_1to3, \"total_ram\", 7)\n",
    "Other_label(df_1to3, \"plan_name\", 3)\n",
    "\n",
    "# Days from activation_date to observed_date (to give us an idea of how old the client is) \n",
    "# And redemption_date to observed_date (to give us an idea of how old the client current plan is)\n",
    "\n",
    "df_1to3[\"activation_to_observed\"] = (df_1to3[\"date_observed\"] - df_1to3[\"first_activation_date\"]).dt.days.astype(float, errors = 'ignore')\n",
    "df_1to3[\"redemption_to_observed\"] = (df_1to3[\"date_observed\"] - df_1to3[\"redemption_date\"]).dt.days.astype(float, errors = 'ignore')\n",
    "\n",
    "\n",
    "# And (date_observed - year_released) to give us an idea of which clients tend to improve their model more often.\n",
    "\n",
    "df_1to3[\"released_to_observed\"] = (df_1to3[\"date_observed\"].dt.year - df_1to3[\"year_released\"]).astype(int, errors = 'ignore')\n",
    "\n",
    "\n",
    "df_1to3[\"redemption_to_observed\"] = df_1to3[\"redemption_to_observed\"].fillna(df_1to3[\"redemption_to_observed\"].median())\n",
    "\n",
    "df_1to3.drop([\"first_activation_date\",\"redemption_date\"], axis=1, inplace = True)\n",
    "\n",
    "df_1to3[\"activation_to_observed\"] = df_1to3[\"activation_to_observed\"].fillna(df_1to3[\"activation_to_observed\"].median()) \n",
    "\n",
    "prueba = df_1to3.copy()\n",
    "\n",
    "prueba[\"plan_gsma\"] = \" \"\n",
    "\n",
    "for i in range(0,len(prueba.index.tolist())):\n",
    "    \n",
    "    prueba.loc[i,\"plan_gsma\"] = str(prueba[\"plan_name\"][i])+\"-\"+str(prueba[\"gsma_operating_system\"][i])\n",
    "\n",
    "plan_gsma_means = {'OTHER-Android': 0.5365921016293842, 'OTHER-iOS': 0.5534579439252336, 'plan 1-Android': 0.09832841691248771,\n",
    "                   'plan 1-iOS': 0.059572532969531605, 'plan 2-Android': 0.24096829687884,\n",
    "                   'plan 2-iOS': 0.16577743902439024, 'plan 3-Android': 0.25287356321839083,\n",
    "                   'plan 3-iOS': 0.19115404168784952}\n",
    "\n",
    "prueba['plan_gsma'] = prueba['plan_gsma'].map(plan_gsma_means)\n",
    "\n",
    "ram_means = {'1024': 0.23551401869158878, '1536': 0.32339089481946626,\n",
    "             '2048': 0.19302963197300432, '3072': 0.377325208466966,\n",
    "             '4096': 0.6045280799764775, '512': 0.12444444444444444, '6144': 0.6758620689655173, 'OTHER': 0.2481871546961326}\n",
    "\n",
    "prueba['total_ram'] = prueba['total_ram'].map(ram_means)\n",
    "\n",
    "carr_means = {'carrier 1': 0.2958441406478538, 'carrier 2': 0.0014245014245014246, 'carrier 3': 0.00040241448692152917}\n",
    "\n",
    "prueba['carrier'] = prueba['carrier'].map(carr_means)\n",
    "\n",
    "prueba.drop([\"plan_name\",\"gsma_operating_system\"], axis = 1, inplace = True)\n",
    "\n",
    "df_1to3 = prueba\n",
    "\n",
    "redemptions=pd.read_csv(data_folder+\"data/eval/redemptions.csv\")\n",
    "\n",
    "redemptions.drop(categorical_cleaner(redemptions), axis = 1, inplace = True)\n",
    "\n",
    "#Agrupado por line_id para tener una fila por cliente\n",
    "a = redemptions.groupby(['line_id']).nunique(\"line_id\")\n",
    "a = a[\"redemption_date\"]\n",
    "\n",
    "#Promedio de revenue generado por cliente\n",
    "b = redemptions.groupby([\"line_id\"]).mean()\n",
    "\n",
    "#Merge de ambos\n",
    "redemptions = pd.merge(a, b, on = \"line_id\", how = \"inner\").reset_index()\n",
    "\n",
    "#Df limpio\n",
    "redemptions.columns = [\"line_id\", \"redemption_count\", \"mean_revenue\"]\n",
    "\n",
    "# Reading of csv\n",
    "deactivations=pd.read_csv(data_folder+\"data/eval/deactivations.csv\")\n",
    "\n",
    "# Droping categorical noise\n",
    "\n",
    "deactivations.drop(categorical_cleaner(deactivations), axis = 1, inplace = True)\n",
    "\n",
    "# Featuring deactivations \n",
    "\n",
    "deactivations = deactivations.groupby(\"line_id\").count().reset_index()\n",
    "deactivations = deactivations[[\"line_id\", \"deactivation_date\"]]\n",
    "deactivations.columns = [\"line_id\", \"deactivations_count\"]\n",
    "\n",
    "# Cleaning and featuring\n",
    "\n",
    "suspensions=pd.read_csv(data_folder+\"data/eval/suspensions.csv\")\n",
    "\n",
    "suspensions = suspensions.astype({\"suspension_start_date\": 'datetime64[ns]', \"suspension_end_date\": 'datetime64[ns]'})\n",
    "\n",
    "suspensions[\"days_suspended\"] = (suspensions[\"suspension_end_date\"] - \n",
    "                                 suspensions[\"suspension_start_date\"]).dt.days.astype(float, errors = 'ignore').fillna(0)\n",
    "\n",
    "suspensions[\"days_suspended\"] = suspensions[\"days_suspended\"].astype(int)\n",
    "\n",
    "suspensions.drop([\"suspension_start_date\",\"suspension_end_date\"], axis = \"columns\", inplace = True)\n",
    "\n",
    "#Agrupado por line_id para tener una fila por cliente\n",
    "z = suspensions.groupby(['line_id']).nunique(\"line_id\")\n",
    "z = z[\"days_suspended\"]\n",
    "\n",
    "#Promedio de revenue generado por cliente\n",
    "y = suspensions.groupby([\"line_id\"]).mean()\n",
    "\n",
    "#Merge de ambos\n",
    "suspensions = pd.merge(z, y, on = \"line_id\", how = \"inner\").reset_index()\n",
    "\n",
    "#Df limpio\n",
    "suspensions.columns = [\"line_id\", \"suspension_count\", \"mean_suspension_days\"]\n",
    "\n",
    "network_usage_domestic=pd.read_csv(data_folder+\"data/eval/network_usage_domestic.csv\")\n",
    "\n",
    "# Cleaning and featuring\n",
    "\n",
    "network_usage_domestic[\"date\"] = pd.to_datetime(network_usage_domestic[\"date\"], format = '%Y-%m-%d')\n",
    "\n",
    "lrp_points=pd.read_csv(data_folder+\"data/eval/lrp_points.csv\")\n",
    "\n",
    "# Cleaning\n",
    "\n",
    "lrp_points[\"update_date\"] = pd.to_datetime(lrp_points[\"update_date\"], format = '%Y-%m-%d')\n",
    "\n",
    "values = {'quantity': 0, 'total_quantity': 0}\n",
    "\n",
    "lrp_points = lrp_points.fillna(value=values)\n",
    "\n",
    "lrp_enrollment=pd.read_csv(data_folder+\"data/eval/lrp_enrollment.csv\")\n",
    "\n",
    "lrp_enrollment[\"lrp_enrollment_date\"] = pd.to_datetime(lrp_enrollment[\"lrp_enrollment_date\"], format = '%Y-%m-%d')\n",
    "\n",
    "lrp_enrollment['lrp_enrolled'].replace({'Y':1}, inplace=True)\n",
    "\n",
    "# network_usage_domestic noise\n",
    "\n",
    "net_numeric = numerical_cleaner(network_usage_domestic)\n",
    "\n",
    "# lrp_points noise\n",
    "\n",
    "lrp_pNumeric = numerical_cleaner(lrp_points)\n",
    "\n",
    "lrp_pCat = categorical_cleaner(lrp_points)\n",
    "\n",
    "# lrp_enrollment noise\n",
    "\n",
    "lrp_enCat = categorical_cleaner(lrp_enrollment)\n",
    "\n",
    "def flattenList(nested_list):\n",
    "    results = []\n",
    "    for i in nested_list:\n",
    "        if isinstance(i, list):\n",
    "            results.extend(i)\n",
    "            results = flattenList(results)\n",
    "        else:\n",
    "            results.append(i)\n",
    "    return results\n",
    "\n",
    "noise = flattenList(net_numeric + lrp_pNumeric + lrp_pCat + lrp_enCat)\n",
    "\n",
    "count_noise = value_count_filter(network_usage_domestic)\n",
    "\n",
    "network_usage_domestic.drop(count_noise, axis='columns', inplace=True)\n",
    "\n",
    "network_usage_mean = network_usage_domestic.groupby(\"line_id\").mean().reset_index()\n",
    "\n",
    "# Creating totals\n",
    "\n",
    "total_creator(network_usage_mean,\"voice_min_in\",\"voice_min_out\")\n",
    "total_creator(network_usage_mean,\"sms_in\",\"sms_out\")\n",
    "total_creator(network_usage_mean,\"mms_in\",\"mms_out\")\n",
    "\n",
    "# Droping previous columns no longer necessary\n",
    "\n",
    "network_usage_mean.drop([\"voice_min_in\",\"voice_min_out\",\"voice_count_in\",\"mms_in\",\"mms_out\",\"sms_in\",\"sms_out\"], axis='columns', inplace=True)\n",
    "\n",
    "# Final df\n",
    "\n",
    "network_usage_domestic = network_usage_mean[[\"line_id\",\"voice_count_total\",\"sms_total\",\"total_kb\"]]\n",
    "\n",
    "df_7to9 = pd.merge(network_usage_domestic, lrp_points[[\"line_id\",\"total_quantity\"]], on = \"line_id\", how = 'left')\n",
    "\n",
    "df_7to9 = pd.merge(df_7to9, lrp_enrollment[[\"line_id\",\"lrp_enrolled\"]], on = \"line_id\", how = 'left')\n",
    "\n",
    "df_7to9[\"lrp_enrolled\"] = df_7to9[\"lrp_enrolled\"].fillna(0)  \n",
    "\n",
    "df_7to9[\"total_quantity\"] = df_7to9[\"total_quantity\"].fillna(0)\n",
    "\n",
    "df = pd.merge(df_1to3, redemptions, on = \"line_id\", how = \"left\")\n",
    "\n",
    "df = pd.merge(df, deactivations, on = \"line_id\", how = \"left\")\n",
    "\n",
    "df = pd.merge(df, suspensions, on = \"line_id\", how = \"left\")\n",
    "\n",
    "df = pd.merge(df, df_7to9, on = \"line_id\", how = \"left\")\n",
    "\n",
    "df = df.drop_duplicates(subset=['line_id'])\n",
    "\n",
    "#df.drop(\"date_observed\", axis = 1, inplace = True)\n",
    "\n",
    "#df.drop(\"mean_revenue\", axis = 1, inplace = True)\n",
    "\n",
    "df.drop(\"year_released\", axis = 1, inplace = True)\n",
    "\n",
    "#df.drop(\"wi_fi\", axis = 1, inplace = True)\n",
    "\n",
    "#df.drop(\"line_id\", axis = 1, inplace = True)\n",
    "\n",
    "#df.drop(\"total_ram\", axis = 1, inplace = True)\n",
    "\n",
    "#df.drop(\"carrier\", axis = 1, inplace = True)\n",
    "\n",
    "#df.drop(\"sms_total\", axis = 1, inplace = True)\n",
    "\n",
    "#df.drop(\"touch_screen\", axis = 1, inplace = True)\n",
    "\n",
    "Y = df\n",
    "\n",
    "Y[\"lrp_enrolled\"] = Y[\"lrp_enrolled\"].fillna(0)\n",
    "\n",
    "Y[\"total_quantity\"] = Y[\"total_quantity\"].fillna(0)\n",
    "\n",
    "Y[\"sms_total\"] = Y[\"sms_total\"].fillna(Y[\"sms_total\"].median())\n",
    "\n",
    "Y[\"total_kb\"] = Y[\"total_kb\"].fillna(Y[\"total_kb\"].median())\n",
    "\n",
    "Y[\"voice_count_total\"] = Y[\"voice_count_total\"].fillna(Y[\"voice_count_total\"].median())\n",
    "\n",
    "Y[\"redemption_count\"] = Y[\"redemption_count\"].fillna(Y[\"redemption_count\"].median())\n",
    "\n",
    "Y[\"deactivations_count\"] = Y[\"deactivations_count\"].fillna(Y[\"deactivations_count\"].median())\n",
    "\n",
    "Y[\"suspension_count\"] = Y[\"suspension_count\"].fillna(Y[\"suspension_count\"].median())\n",
    "\n",
    "Y[\"mean_suspension_days\"] = Y[\"mean_suspension_days\"].fillna(Y[\"mean_suspension_days\"].median())\n",
    "\n",
    "Y[\"mean_revenue\"] = Y[\"mean_revenue\"].fillna(Y[\"mean_revenue\"].median())\n",
    "\n",
    "Y.drop([\"deactivations_count\",\"date_observed\",\"wi_fi\",\"released_to_observed\",\"redemption_count\"], axis = 1, inplace = True)"
   ]
  },
  {
   "cell_type": "code",
   "execution_count": 297,
   "metadata": {},
   "outputs": [
    {
     "data": {
      "text/plain": [
       "(37155, 14)"
      ]
     },
     "execution_count": 297,
     "metadata": {},
     "output_type": "execute_result"
    }
   ],
   "source": [
    "df_eval = Y\n",
    "\n",
    "#pd.read_csv(root_folder+\"sample-notebook/X_eval.csv\")\n",
    "\n",
    "df_eval_lineID = df_eval[\"line_id\"].tolist()\n",
    "\n",
    "df_eval.drop(\"line_id\", axis = 1, inplace = True)\n",
    "\n",
    "scaler = StandardScaler()\n",
    "\n",
    "scaler.fit(df_eval)\n",
    "\n",
    "df_eval_scaled = scaler.transform(df_eval)\n",
    "\n",
    "df_eval_scaled.shape"
   ]
  },
  {
   "cell_type": "code",
   "execution_count": 298,
   "metadata": {},
   "outputs": [
    {
     "name": "stdout",
     "output_type": "stream",
     "text": [
      "<class 'pandas.core.frame.DataFrame'>\n",
      "Int64Index: 37155 entries, 0 to 37155\n",
      "Data columns (total 14 columns):\n",
      " #   Column                  Non-Null Count  Dtype  \n",
      "---  ------                  --------------  -----  \n",
      " 0   carrier                 37155 non-null  float64\n",
      " 1   total_ram               37155 non-null  float64\n",
      " 2   touch_screen            37155 non-null  int64  \n",
      " 3   activation_to_observed  37155 non-null  float64\n",
      " 4   redemption_to_observed  37155 non-null  float64\n",
      " 5   plan_gsma               37155 non-null  float64\n",
      " 6   mean_revenue            37155 non-null  float64\n",
      " 7   suspension_count        37155 non-null  float64\n",
      " 8   mean_suspension_days    37155 non-null  float64\n",
      " 9   voice_count_total       37155 non-null  float64\n",
      " 10  sms_total               37155 non-null  float64\n",
      " 11  total_kb                37155 non-null  float64\n",
      " 12  total_quantity          37155 non-null  float64\n",
      " 13  lrp_enrolled            37155 non-null  float64\n",
      "dtypes: float64(13), int64(1)\n",
      "memory usage: 4.3 MB\n"
     ]
    }
   ],
   "source": [
    "df_eval.info()"
   ]
  },
  {
   "cell_type": "markdown",
   "metadata": {},
   "source": [
    "# Model"
   ]
  },
  {
   "cell_type": "code",
   "execution_count": 130,
   "metadata": {},
   "outputs": [
    {
     "data": {
      "text/plain": [
       "0    27296\n",
       "1     9859\n",
       "Name: upgrade, dtype: int64"
      ]
     },
     "execution_count": 130,
     "metadata": {},
     "output_type": "execute_result"
    }
   ],
   "source": [
    "X_train, X_test, y_train, y_test = train_test_split(X, y, train_size = 0.80, random_state = 12)\n",
    "\n",
    "scaler = StandardScaler()\n",
    "\n",
    "scaler.fit(X_train)\n",
    "\n",
    "scaler.fit(X_test)\n",
    "\n",
    "X_train_scaled = scaler.transform(X_train)\n",
    "\n",
    "X_test_scaled = scaler.transform(X_test)\n",
    "    \n",
    "trac_SVM = SVC(C = 100, gamma = 'scale', kernel = 'rbf',random_state = 12)\n",
    "\n",
    "trac_SVM.fit(X_train_scaled, y_train)\n",
    "\n",
    "y_eval = trac_SVM.predict(df_eval_scaled)\n",
    "    \n",
    "upgrade_list_eval = y_eval.tolist()\n",
    "\n",
    "df_tracfone = pd.DataFrame(list(zip(df_eval_lineID, upgrade_list_eval)),\n",
    "               columns =['line_id', 'upgrade'])\n",
    "\n",
    "df_tracfone['upgrade'].value_counts()"
   ]
  },
  {
   "cell_type": "code",
   "execution_count": 131,
   "metadata": {},
   "outputs": [],
   "source": [
    "df_tracfone.to_csv(root_folder + 'submission/2021-04-25.csv', header = True, index = None)"
   ]
  },
  {
   "cell_type": "markdown",
   "metadata": {},
   "source": [
    "0    28179\n",
    "1     8976"
   ]
  },
  {
   "cell_type": "markdown",
   "metadata": {},
   "source": [
    "0    27296\n",
    "1     9859"
   ]
  }
 ],
 "metadata": {
  "kernelspec": {
   "display_name": "Python 3",
   "language": "python",
   "name": "python3"
  },
  "language_info": {
   "codemirror_mode": {
    "name": "ipython",
    "version": 3
   },
   "file_extension": ".py",
   "mimetype": "text/x-python",
   "name": "python",
   "nbconvert_exporter": "python",
   "pygments_lexer": "ipython3",
   "version": "3.8.3"
  }
 },
 "nbformat": 4,
 "nbformat_minor": 4
}
